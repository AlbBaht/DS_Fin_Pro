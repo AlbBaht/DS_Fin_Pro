{
  "cells": [
    {
      "cell_type": "markdown",
      "metadata": {
        "id": "2cptvDFChjiH"
      },
      "source": [
        "## Прогнозирование временных рядов с использованием рекуррентной нейронной сети RNN (LSTM-модель)."
      ]
    },
    {
      "cell_type": "markdown",
      "metadata": {
        "id": "UWsjjnbJhjiS"
      },
      "source": [
        "Time series prediction  using recurrent neural network RNN (LSTM model)."
      ]
    },
    {
      "cell_type": "markdown",
      "source": [
        "### Постановка задачи."
      ],
      "metadata": {
        "id": "fYLfpZzAWd4-"
      }
    },
    {
      "cell_type": "markdown",
      "source": [
        ">Временной ряд – это последовательность значений, описывающих протекающий во времени процесс, измеренных в последовательные моменты времени, обычно через равные промежутки. Временной ряд отличается от простой выборки данных, так как при анализе учитывается взаимосвязь измерений со временем, а не только статистические характеристики выборки.\n",
        "\n",
        ">Необходимость анализа и прогнозирования временных рядов часто возникает в задачах, связанных с ритейлом, финансами, web-аналитики, маркетинга и прочих. Интерес к данной теме автора работы связан с потребностями в анализе временных рядов при планировании продаж компании (по сути прогнозировании спроса) и соответственно планирования обеспечения товарами собственных складских помещений. \n",
        "  \n",
        ">В качестве модели глубокого обучения будем использовать LSTM (Long Short-Term Memory). Эта модель является важным шагов в развитии рекуррентных нейронных сетей RNN и решает проблему затухания или наоборот, взрывного роста градиента в сети RNN. Другими словами, обычные RNN ячейки не могут “удержать в памяти” слишком длинные последовательности. Сеть LSTM способна изучать долгосрочные зависимости в данных, чем и объясняется ее использование при прогнозировании временных рядов.\n",
        "\n",
        ">В работе решается задача предсказания цены на акцию компании Microsoft. Источником данных является датасет https://www.kaggle.com/datasets/borismarjanovic/price-volume-data-for-all-us-stocks-etfs.\n",
        "\n",
        "\n",
        "\n",
        "\n",
        "\n",
        "\n",
        "\n"
      ],
      "metadata": {
        "id": "F4mY2AkyWpOz"
      }
    },
    {
      "cell_type": "code",
      "source": [
        "import numpy as np\n",
        "import pandas as pd\n",
        "import random\n",
        "from tqdm.notebook import tqdm\n",
        "import matplotlib.pyplot as plt\n",
        "%matplotlib inline\n",
        "\n",
        "#from pandas import datetime\n",
        "import math, time\n",
        "import itertools\n",
        "import datetime\n",
        "\n",
        "from sklearn.metrics import mean_squared_error\n",
        "from sklearn.preprocessing import MinMaxScaler\n",
        "from sklearn.preprocessing import StandardScaler\n",
        "from math import sqrt\n",
        "\n",
        "import torch\n",
        "import torch.nn as nn\n",
        "from torch.autograd import Variable"
      ],
      "metadata": {
        "id": "6mUavmOUzdUY"
      },
      "execution_count": null,
      "outputs": []
    },
    {
      "cell_type": "markdown",
      "source": [
        "### 1. Загрузка и исследование данных."
      ],
      "metadata": {
        "id": "mr90QAbSkCGf"
      }
    },
    {
      "cell_type": "markdown",
      "source": [
        "Датасет представляет собой архив csv-файлов, содержащих информацию о ценах и продажах акций различных компаний за определенный период времени. В качестве названия файлов используются тикеры акций компаний. \n",
        "\n",
        "Для исследования используется файл компании Microsot - \"msft.us.txt\". Хотя в названии указано расширение \"txt\", но это именно файл формата \"csv\". "
      ],
      "metadata": {
        "id": "mHhlSSTplWR4"
      }
    },
    {
      "cell_type": "markdown",
      "source": [
        "Считываем файл msft.us.txt в переменную df_msft:"
      ],
      "metadata": {
        "id": "fMONkAR9x9ok"
      }
    },
    {
      "cell_type": "code",
      "execution_count": null,
      "metadata": {
        "id": "Y-NAK1WJhjiU"
      },
      "outputs": [],
      "source": [
        "df_msft = pd.read_csv(\"msft.us.txt\", parse_dates=[\"Date\"])"
      ]
    },
    {
      "cell_type": "markdown",
      "source": [
        "Определим размер таблицы (количество строк, колонок):"
      ],
      "metadata": {
        "id": "KeXMUMQeyBLa"
      }
    },
    {
      "cell_type": "code",
      "source": [
        "df_msft.shape"
      ],
      "metadata": {
        "colab": {
          "base_uri": "https://localhost:8080/"
        },
        "id": "UXTdADcC0cbK",
        "outputId": "17243e49-1124-4d0b-e03a-b91749a502d2"
      },
      "execution_count": null,
      "outputs": [
        {
          "output_type": "execute_result",
          "data": {
            "text/plain": [
              "(7983, 7)"
            ]
          },
          "metadata": {},
          "execution_count": 1056
        }
      ]
    },
    {
      "cell_type": "markdown",
      "source": [
        "Посмотрим первые пять строк:"
      ],
      "metadata": {
        "id": "PXfImUOqyPTJ"
      }
    },
    {
      "cell_type": "code",
      "source": [
        "df_msft.head(5)"
      ],
      "metadata": {
        "colab": {
          "base_uri": "https://localhost:8080/",
          "height": 206
        },
        "id": "hhyfCiyDqvaf",
        "outputId": "c88e2b7b-7227-4ad6-af57-c54c68650b84"
      },
      "execution_count": null,
      "outputs": [
        {
          "output_type": "execute_result",
          "data": {
            "text/plain": [
              "        Date     Open     High      Low    Close      Volume  OpenInt\n",
              "0 1986-03-13  0.06720  0.07533  0.06720  0.07533  1371330506        0\n",
              "1 1986-03-14  0.07533  0.07533  0.07533  0.07533   409569463        0\n",
              "2 1986-03-17  0.07533  0.07533  0.07533  0.07533   176995245        0\n",
              "3 1986-03-18  0.07533  0.07533  0.07533  0.07533    90067008        0\n",
              "4 1986-03-19  0.07533  0.07533  0.07533  0.07533    63655515        0"
            ],
            "text/html": [
              "\n",
              "  <div id=\"df-285955a9-681c-4d43-b253-17a256596cfe\">\n",
              "    <div class=\"colab-df-container\">\n",
              "      <div>\n",
              "<style scoped>\n",
              "    .dataframe tbody tr th:only-of-type {\n",
              "        vertical-align: middle;\n",
              "    }\n",
              "\n",
              "    .dataframe tbody tr th {\n",
              "        vertical-align: top;\n",
              "    }\n",
              "\n",
              "    .dataframe thead th {\n",
              "        text-align: right;\n",
              "    }\n",
              "</style>\n",
              "<table border=\"1\" class=\"dataframe\">\n",
              "  <thead>\n",
              "    <tr style=\"text-align: right;\">\n",
              "      <th></th>\n",
              "      <th>Date</th>\n",
              "      <th>Open</th>\n",
              "      <th>High</th>\n",
              "      <th>Low</th>\n",
              "      <th>Close</th>\n",
              "      <th>Volume</th>\n",
              "      <th>OpenInt</th>\n",
              "    </tr>\n",
              "  </thead>\n",
              "  <tbody>\n",
              "    <tr>\n",
              "      <th>0</th>\n",
              "      <td>1986-03-13</td>\n",
              "      <td>0.06720</td>\n",
              "      <td>0.07533</td>\n",
              "      <td>0.06720</td>\n",
              "      <td>0.07533</td>\n",
              "      <td>1371330506</td>\n",
              "      <td>0</td>\n",
              "    </tr>\n",
              "    <tr>\n",
              "      <th>1</th>\n",
              "      <td>1986-03-14</td>\n",
              "      <td>0.07533</td>\n",
              "      <td>0.07533</td>\n",
              "      <td>0.07533</td>\n",
              "      <td>0.07533</td>\n",
              "      <td>409569463</td>\n",
              "      <td>0</td>\n",
              "    </tr>\n",
              "    <tr>\n",
              "      <th>2</th>\n",
              "      <td>1986-03-17</td>\n",
              "      <td>0.07533</td>\n",
              "      <td>0.07533</td>\n",
              "      <td>0.07533</td>\n",
              "      <td>0.07533</td>\n",
              "      <td>176995245</td>\n",
              "      <td>0</td>\n",
              "    </tr>\n",
              "    <tr>\n",
              "      <th>3</th>\n",
              "      <td>1986-03-18</td>\n",
              "      <td>0.07533</td>\n",
              "      <td>0.07533</td>\n",
              "      <td>0.07533</td>\n",
              "      <td>0.07533</td>\n",
              "      <td>90067008</td>\n",
              "      <td>0</td>\n",
              "    </tr>\n",
              "    <tr>\n",
              "      <th>4</th>\n",
              "      <td>1986-03-19</td>\n",
              "      <td>0.07533</td>\n",
              "      <td>0.07533</td>\n",
              "      <td>0.07533</td>\n",
              "      <td>0.07533</td>\n",
              "      <td>63655515</td>\n",
              "      <td>0</td>\n",
              "    </tr>\n",
              "  </tbody>\n",
              "</table>\n",
              "</div>\n",
              "      <button class=\"colab-df-convert\" onclick=\"convertToInteractive('df-285955a9-681c-4d43-b253-17a256596cfe')\"\n",
              "              title=\"Convert this dataframe to an interactive table.\"\n",
              "              style=\"display:none;\">\n",
              "        \n",
              "  <svg xmlns=\"http://www.w3.org/2000/svg\" height=\"24px\"viewBox=\"0 0 24 24\"\n",
              "       width=\"24px\">\n",
              "    <path d=\"M0 0h24v24H0V0z\" fill=\"none\"/>\n",
              "    <path d=\"M18.56 5.44l.94 2.06.94-2.06 2.06-.94-2.06-.94-.94-2.06-.94 2.06-2.06.94zm-11 1L8.5 8.5l.94-2.06 2.06-.94-2.06-.94L8.5 2.5l-.94 2.06-2.06.94zm10 10l.94 2.06.94-2.06 2.06-.94-2.06-.94-.94-2.06-.94 2.06-2.06.94z\"/><path d=\"M17.41 7.96l-1.37-1.37c-.4-.4-.92-.59-1.43-.59-.52 0-1.04.2-1.43.59L10.3 9.45l-7.72 7.72c-.78.78-.78 2.05 0 2.83L4 21.41c.39.39.9.59 1.41.59.51 0 1.02-.2 1.41-.59l7.78-7.78 2.81-2.81c.8-.78.8-2.07 0-2.86zM5.41 20L4 18.59l7.72-7.72 1.47 1.35L5.41 20z\"/>\n",
              "  </svg>\n",
              "      </button>\n",
              "      \n",
              "  <style>\n",
              "    .colab-df-container {\n",
              "      display:flex;\n",
              "      flex-wrap:wrap;\n",
              "      gap: 12px;\n",
              "    }\n",
              "\n",
              "    .colab-df-convert {\n",
              "      background-color: #E8F0FE;\n",
              "      border: none;\n",
              "      border-radius: 50%;\n",
              "      cursor: pointer;\n",
              "      display: none;\n",
              "      fill: #1967D2;\n",
              "      height: 32px;\n",
              "      padding: 0 0 0 0;\n",
              "      width: 32px;\n",
              "    }\n",
              "\n",
              "    .colab-df-convert:hover {\n",
              "      background-color: #E2EBFA;\n",
              "      box-shadow: 0px 1px 2px rgba(60, 64, 67, 0.3), 0px 1px 3px 1px rgba(60, 64, 67, 0.15);\n",
              "      fill: #174EA6;\n",
              "    }\n",
              "\n",
              "    [theme=dark] .colab-df-convert {\n",
              "      background-color: #3B4455;\n",
              "      fill: #D2E3FC;\n",
              "    }\n",
              "\n",
              "    [theme=dark] .colab-df-convert:hover {\n",
              "      background-color: #434B5C;\n",
              "      box-shadow: 0px 1px 3px 1px rgba(0, 0, 0, 0.15);\n",
              "      filter: drop-shadow(0px 1px 2px rgba(0, 0, 0, 0.3));\n",
              "      fill: #FFFFFF;\n",
              "    }\n",
              "  </style>\n",
              "\n",
              "      <script>\n",
              "        const buttonEl =\n",
              "          document.querySelector('#df-285955a9-681c-4d43-b253-17a256596cfe button.colab-df-convert');\n",
              "        buttonEl.style.display =\n",
              "          google.colab.kernel.accessAllowed ? 'block' : 'none';\n",
              "\n",
              "        async function convertToInteractive(key) {\n",
              "          const element = document.querySelector('#df-285955a9-681c-4d43-b253-17a256596cfe');\n",
              "          const dataTable =\n",
              "            await google.colab.kernel.invokeFunction('convertToInteractive',\n",
              "                                                     [key], {});\n",
              "          if (!dataTable) return;\n",
              "\n",
              "          const docLinkHtml = 'Like what you see? Visit the ' +\n",
              "            '<a target=\"_blank\" href=https://colab.research.google.com/notebooks/data_table.ipynb>data table notebook</a>'\n",
              "            + ' to learn more about interactive tables.';\n",
              "          element.innerHTML = '';\n",
              "          dataTable['output_type'] = 'display_data';\n",
              "          await google.colab.output.renderOutput(dataTable, element);\n",
              "          const docLink = document.createElement('div');\n",
              "          docLink.innerHTML = docLinkHtml;\n",
              "          element.appendChild(docLink);\n",
              "        }\n",
              "      </script>\n",
              "    </div>\n",
              "  </div>\n",
              "  "
            ]
          },
          "metadata": {},
          "execution_count": 1057
        }
      ]
    },
    {
      "cell_type": "code",
      "source": [
        "# хвост данных\n",
        "df_msft.tail()"
      ],
      "metadata": {
        "colab": {
          "base_uri": "https://localhost:8080/",
          "height": 206
        },
        "id": "g01KJLG2yd4y",
        "outputId": "2e524689-ab86-4e29-d53a-9c7e2215d7cd"
      },
      "execution_count": null,
      "outputs": [
        {
          "output_type": "execute_result",
          "data": {
            "text/plain": [
              "           Date   Open    High      Low  Close    Volume  OpenInt\n",
              "7978 2017-11-06  84.20  84.700  84.0825  84.47  19852151        0\n",
              "7979 2017-11-07  84.77  84.900  83.9300  84.26  17927878        0\n",
              "7980 2017-11-08  84.14  84.610  83.8300  84.56  18029584        0\n",
              "7981 2017-11-09  84.11  84.270  82.9000  84.09  21175384        0\n",
              "7982 2017-11-10  83.79  84.095  83.2300  83.87  19396301        0"
            ],
            "text/html": [
              "\n",
              "  <div id=\"df-ce7cddd6-495f-4a54-94c6-e311466fa811\">\n",
              "    <div class=\"colab-df-container\">\n",
              "      <div>\n",
              "<style scoped>\n",
              "    .dataframe tbody tr th:only-of-type {\n",
              "        vertical-align: middle;\n",
              "    }\n",
              "\n",
              "    .dataframe tbody tr th {\n",
              "        vertical-align: top;\n",
              "    }\n",
              "\n",
              "    .dataframe thead th {\n",
              "        text-align: right;\n",
              "    }\n",
              "</style>\n",
              "<table border=\"1\" class=\"dataframe\">\n",
              "  <thead>\n",
              "    <tr style=\"text-align: right;\">\n",
              "      <th></th>\n",
              "      <th>Date</th>\n",
              "      <th>Open</th>\n",
              "      <th>High</th>\n",
              "      <th>Low</th>\n",
              "      <th>Close</th>\n",
              "      <th>Volume</th>\n",
              "      <th>OpenInt</th>\n",
              "    </tr>\n",
              "  </thead>\n",
              "  <tbody>\n",
              "    <tr>\n",
              "      <th>7978</th>\n",
              "      <td>2017-11-06</td>\n",
              "      <td>84.20</td>\n",
              "      <td>84.700</td>\n",
              "      <td>84.0825</td>\n",
              "      <td>84.47</td>\n",
              "      <td>19852151</td>\n",
              "      <td>0</td>\n",
              "    </tr>\n",
              "    <tr>\n",
              "      <th>7979</th>\n",
              "      <td>2017-11-07</td>\n",
              "      <td>84.77</td>\n",
              "      <td>84.900</td>\n",
              "      <td>83.9300</td>\n",
              "      <td>84.26</td>\n",
              "      <td>17927878</td>\n",
              "      <td>0</td>\n",
              "    </tr>\n",
              "    <tr>\n",
              "      <th>7980</th>\n",
              "      <td>2017-11-08</td>\n",
              "      <td>84.14</td>\n",
              "      <td>84.610</td>\n",
              "      <td>83.8300</td>\n",
              "      <td>84.56</td>\n",
              "      <td>18029584</td>\n",
              "      <td>0</td>\n",
              "    </tr>\n",
              "    <tr>\n",
              "      <th>7981</th>\n",
              "      <td>2017-11-09</td>\n",
              "      <td>84.11</td>\n",
              "      <td>84.270</td>\n",
              "      <td>82.9000</td>\n",
              "      <td>84.09</td>\n",
              "      <td>21175384</td>\n",
              "      <td>0</td>\n",
              "    </tr>\n",
              "    <tr>\n",
              "      <th>7982</th>\n",
              "      <td>2017-11-10</td>\n",
              "      <td>83.79</td>\n",
              "      <td>84.095</td>\n",
              "      <td>83.2300</td>\n",
              "      <td>83.87</td>\n",
              "      <td>19396301</td>\n",
              "      <td>0</td>\n",
              "    </tr>\n",
              "  </tbody>\n",
              "</table>\n",
              "</div>\n",
              "      <button class=\"colab-df-convert\" onclick=\"convertToInteractive('df-ce7cddd6-495f-4a54-94c6-e311466fa811')\"\n",
              "              title=\"Convert this dataframe to an interactive table.\"\n",
              "              style=\"display:none;\">\n",
              "        \n",
              "  <svg xmlns=\"http://www.w3.org/2000/svg\" height=\"24px\"viewBox=\"0 0 24 24\"\n",
              "       width=\"24px\">\n",
              "    <path d=\"M0 0h24v24H0V0z\" fill=\"none\"/>\n",
              "    <path d=\"M18.56 5.44l.94 2.06.94-2.06 2.06-.94-2.06-.94-.94-2.06-.94 2.06-2.06.94zm-11 1L8.5 8.5l.94-2.06 2.06-.94-2.06-.94L8.5 2.5l-.94 2.06-2.06.94zm10 10l.94 2.06.94-2.06 2.06-.94-2.06-.94-.94-2.06-.94 2.06-2.06.94z\"/><path d=\"M17.41 7.96l-1.37-1.37c-.4-.4-.92-.59-1.43-.59-.52 0-1.04.2-1.43.59L10.3 9.45l-7.72 7.72c-.78.78-.78 2.05 0 2.83L4 21.41c.39.39.9.59 1.41.59.51 0 1.02-.2 1.41-.59l7.78-7.78 2.81-2.81c.8-.78.8-2.07 0-2.86zM5.41 20L4 18.59l7.72-7.72 1.47 1.35L5.41 20z\"/>\n",
              "  </svg>\n",
              "      </button>\n",
              "      \n",
              "  <style>\n",
              "    .colab-df-container {\n",
              "      display:flex;\n",
              "      flex-wrap:wrap;\n",
              "      gap: 12px;\n",
              "    }\n",
              "\n",
              "    .colab-df-convert {\n",
              "      background-color: #E8F0FE;\n",
              "      border: none;\n",
              "      border-radius: 50%;\n",
              "      cursor: pointer;\n",
              "      display: none;\n",
              "      fill: #1967D2;\n",
              "      height: 32px;\n",
              "      padding: 0 0 0 0;\n",
              "      width: 32px;\n",
              "    }\n",
              "\n",
              "    .colab-df-convert:hover {\n",
              "      background-color: #E2EBFA;\n",
              "      box-shadow: 0px 1px 2px rgba(60, 64, 67, 0.3), 0px 1px 3px 1px rgba(60, 64, 67, 0.15);\n",
              "      fill: #174EA6;\n",
              "    }\n",
              "\n",
              "    [theme=dark] .colab-df-convert {\n",
              "      background-color: #3B4455;\n",
              "      fill: #D2E3FC;\n",
              "    }\n",
              "\n",
              "    [theme=dark] .colab-df-convert:hover {\n",
              "      background-color: #434B5C;\n",
              "      box-shadow: 0px 1px 3px 1px rgba(0, 0, 0, 0.15);\n",
              "      filter: drop-shadow(0px 1px 2px rgba(0, 0, 0, 0.3));\n",
              "      fill: #FFFFFF;\n",
              "    }\n",
              "  </style>\n",
              "\n",
              "      <script>\n",
              "        const buttonEl =\n",
              "          document.querySelector('#df-ce7cddd6-495f-4a54-94c6-e311466fa811 button.colab-df-convert');\n",
              "        buttonEl.style.display =\n",
              "          google.colab.kernel.accessAllowed ? 'block' : 'none';\n",
              "\n",
              "        async function convertToInteractive(key) {\n",
              "          const element = document.querySelector('#df-ce7cddd6-495f-4a54-94c6-e311466fa811');\n",
              "          const dataTable =\n",
              "            await google.colab.kernel.invokeFunction('convertToInteractive',\n",
              "                                                     [key], {});\n",
              "          if (!dataTable) return;\n",
              "\n",
              "          const docLinkHtml = 'Like what you see? Visit the ' +\n",
              "            '<a target=\"_blank\" href=https://colab.research.google.com/notebooks/data_table.ipynb>data table notebook</a>'\n",
              "            + ' to learn more about interactive tables.';\n",
              "          element.innerHTML = '';\n",
              "          dataTable['output_type'] = 'display_data';\n",
              "          await google.colab.output.renderOutput(dataTable, element);\n",
              "          const docLink = document.createElement('div');\n",
              "          docLink.innerHTML = docLinkHtml;\n",
              "          element.appendChild(docLink);\n",
              "        }\n",
              "      </script>\n",
              "    </div>\n",
              "  </div>\n",
              "  "
            ]
          },
          "metadata": {},
          "execution_count": 559
        }
      ]
    },
    {
      "cell_type": "markdown",
      "source": [
        "Видим, что данные представлены за период от '1986-03-13' по '2017-11-10'."
      ],
      "metadata": {
        "id": "PaRIU0vNy3Y9"
      }
    },
    {
      "cell_type": "code",
      "source": [
        "df_msft.info()"
      ],
      "metadata": {
        "colab": {
          "base_uri": "https://localhost:8080/"
        },
        "id": "xI_2s-hD10tP",
        "outputId": "3423276e-3b1c-4a38-f905-7167f3a2ef2e"
      },
      "execution_count": null,
      "outputs": [
        {
          "output_type": "stream",
          "name": "stdout",
          "text": [
            "<class 'pandas.core.frame.DataFrame'>\n",
            "RangeIndex: 7983 entries, 0 to 7982\n",
            "Data columns (total 7 columns):\n",
            " #   Column   Non-Null Count  Dtype         \n",
            "---  ------   --------------  -----         \n",
            " 0   Date     7983 non-null   datetime64[ns]\n",
            " 1   Open     7983 non-null   float64       \n",
            " 2   High     7983 non-null   float64       \n",
            " 3   Low      7983 non-null   float64       \n",
            " 4   Close    7983 non-null   float64       \n",
            " 5   Volume   7983 non-null   int64         \n",
            " 6   OpenInt  7983 non-null   int64         \n",
            "dtypes: datetime64[ns](1), float64(4), int64(2)\n",
            "memory usage: 436.7 KB\n"
          ]
        }
      ]
    },
    {
      "cell_type": "markdown",
      "source": [
        "Пропущенных значений нет."
      ],
      "metadata": {
        "id": "64JPe_sG1e4x"
      }
    },
    {
      "cell_type": "code",
      "source": [
        "df_msft.describe()"
      ],
      "metadata": {
        "colab": {
          "base_uri": "https://localhost:8080/",
          "height": 300
        },
        "id": "Ct5plAlArTfJ",
        "outputId": "19d0c082-293f-41ee-e0bf-f09853255432"
      },
      "execution_count": null,
      "outputs": [
        {
          "output_type": "execute_result",
          "data": {
            "text/plain": [
              "              Open         High          Low        Close        Volume  \\\n",
              "count  7983.000000  7983.000000  7983.000000  7983.000000  7.983000e+03   \n",
              "mean     18.977859    19.187219    18.773635    18.984698  7.945800e+07   \n",
              "std      16.416068    16.552604    16.277882    16.424012  5.214889e+07   \n",
              "min       0.067200     0.067200     0.067200     0.067200  0.000000e+00   \n",
              "25%       2.113300     2.155100     2.079700     2.113300  4.910587e+07   \n",
              "50%      20.462000    20.697000    20.251000    20.469000  7.059385e+07   \n",
              "75%      25.475000    25.754000    25.233000    25.483500  9.734927e+07   \n",
              "max      84.770000    86.200000    84.082500    84.560000  1.371331e+09   \n",
              "\n",
              "       OpenInt  \n",
              "count   7983.0  \n",
              "mean       0.0  \n",
              "std        0.0  \n",
              "min        0.0  \n",
              "25%        0.0  \n",
              "50%        0.0  \n",
              "75%        0.0  \n",
              "max        0.0  "
            ],
            "text/html": [
              "\n",
              "  <div id=\"df-7a947b08-1edf-4ce8-858e-f78f9294e8f3\">\n",
              "    <div class=\"colab-df-container\">\n",
              "      <div>\n",
              "<style scoped>\n",
              "    .dataframe tbody tr th:only-of-type {\n",
              "        vertical-align: middle;\n",
              "    }\n",
              "\n",
              "    .dataframe tbody tr th {\n",
              "        vertical-align: top;\n",
              "    }\n",
              "\n",
              "    .dataframe thead th {\n",
              "        text-align: right;\n",
              "    }\n",
              "</style>\n",
              "<table border=\"1\" class=\"dataframe\">\n",
              "  <thead>\n",
              "    <tr style=\"text-align: right;\">\n",
              "      <th></th>\n",
              "      <th>Open</th>\n",
              "      <th>High</th>\n",
              "      <th>Low</th>\n",
              "      <th>Close</th>\n",
              "      <th>Volume</th>\n",
              "      <th>OpenInt</th>\n",
              "    </tr>\n",
              "  </thead>\n",
              "  <tbody>\n",
              "    <tr>\n",
              "      <th>count</th>\n",
              "      <td>7983.000000</td>\n",
              "      <td>7983.000000</td>\n",
              "      <td>7983.000000</td>\n",
              "      <td>7983.000000</td>\n",
              "      <td>7.983000e+03</td>\n",
              "      <td>7983.0</td>\n",
              "    </tr>\n",
              "    <tr>\n",
              "      <th>mean</th>\n",
              "      <td>18.977859</td>\n",
              "      <td>19.187219</td>\n",
              "      <td>18.773635</td>\n",
              "      <td>18.984698</td>\n",
              "      <td>7.945800e+07</td>\n",
              "      <td>0.0</td>\n",
              "    </tr>\n",
              "    <tr>\n",
              "      <th>std</th>\n",
              "      <td>16.416068</td>\n",
              "      <td>16.552604</td>\n",
              "      <td>16.277882</td>\n",
              "      <td>16.424012</td>\n",
              "      <td>5.214889e+07</td>\n",
              "      <td>0.0</td>\n",
              "    </tr>\n",
              "    <tr>\n",
              "      <th>min</th>\n",
              "      <td>0.067200</td>\n",
              "      <td>0.067200</td>\n",
              "      <td>0.067200</td>\n",
              "      <td>0.067200</td>\n",
              "      <td>0.000000e+00</td>\n",
              "      <td>0.0</td>\n",
              "    </tr>\n",
              "    <tr>\n",
              "      <th>25%</th>\n",
              "      <td>2.113300</td>\n",
              "      <td>2.155100</td>\n",
              "      <td>2.079700</td>\n",
              "      <td>2.113300</td>\n",
              "      <td>4.910587e+07</td>\n",
              "      <td>0.0</td>\n",
              "    </tr>\n",
              "    <tr>\n",
              "      <th>50%</th>\n",
              "      <td>20.462000</td>\n",
              "      <td>20.697000</td>\n",
              "      <td>20.251000</td>\n",
              "      <td>20.469000</td>\n",
              "      <td>7.059385e+07</td>\n",
              "      <td>0.0</td>\n",
              "    </tr>\n",
              "    <tr>\n",
              "      <th>75%</th>\n",
              "      <td>25.475000</td>\n",
              "      <td>25.754000</td>\n",
              "      <td>25.233000</td>\n",
              "      <td>25.483500</td>\n",
              "      <td>9.734927e+07</td>\n",
              "      <td>0.0</td>\n",
              "    </tr>\n",
              "    <tr>\n",
              "      <th>max</th>\n",
              "      <td>84.770000</td>\n",
              "      <td>86.200000</td>\n",
              "      <td>84.082500</td>\n",
              "      <td>84.560000</td>\n",
              "      <td>1.371331e+09</td>\n",
              "      <td>0.0</td>\n",
              "    </tr>\n",
              "  </tbody>\n",
              "</table>\n",
              "</div>\n",
              "      <button class=\"colab-df-convert\" onclick=\"convertToInteractive('df-7a947b08-1edf-4ce8-858e-f78f9294e8f3')\"\n",
              "              title=\"Convert this dataframe to an interactive table.\"\n",
              "              style=\"display:none;\">\n",
              "        \n",
              "  <svg xmlns=\"http://www.w3.org/2000/svg\" height=\"24px\"viewBox=\"0 0 24 24\"\n",
              "       width=\"24px\">\n",
              "    <path d=\"M0 0h24v24H0V0z\" fill=\"none\"/>\n",
              "    <path d=\"M18.56 5.44l.94 2.06.94-2.06 2.06-.94-2.06-.94-.94-2.06-.94 2.06-2.06.94zm-11 1L8.5 8.5l.94-2.06 2.06-.94-2.06-.94L8.5 2.5l-.94 2.06-2.06.94zm10 10l.94 2.06.94-2.06 2.06-.94-2.06-.94-.94-2.06-.94 2.06-2.06.94z\"/><path d=\"M17.41 7.96l-1.37-1.37c-.4-.4-.92-.59-1.43-.59-.52 0-1.04.2-1.43.59L10.3 9.45l-7.72 7.72c-.78.78-.78 2.05 0 2.83L4 21.41c.39.39.9.59 1.41.59.51 0 1.02-.2 1.41-.59l7.78-7.78 2.81-2.81c.8-.78.8-2.07 0-2.86zM5.41 20L4 18.59l7.72-7.72 1.47 1.35L5.41 20z\"/>\n",
              "  </svg>\n",
              "      </button>\n",
              "      \n",
              "  <style>\n",
              "    .colab-df-container {\n",
              "      display:flex;\n",
              "      flex-wrap:wrap;\n",
              "      gap: 12px;\n",
              "    }\n",
              "\n",
              "    .colab-df-convert {\n",
              "      background-color: #E8F0FE;\n",
              "      border: none;\n",
              "      border-radius: 50%;\n",
              "      cursor: pointer;\n",
              "      display: none;\n",
              "      fill: #1967D2;\n",
              "      height: 32px;\n",
              "      padding: 0 0 0 0;\n",
              "      width: 32px;\n",
              "    }\n",
              "\n",
              "    .colab-df-convert:hover {\n",
              "      background-color: #E2EBFA;\n",
              "      box-shadow: 0px 1px 2px rgba(60, 64, 67, 0.3), 0px 1px 3px 1px rgba(60, 64, 67, 0.15);\n",
              "      fill: #174EA6;\n",
              "    }\n",
              "\n",
              "    [theme=dark] .colab-df-convert {\n",
              "      background-color: #3B4455;\n",
              "      fill: #D2E3FC;\n",
              "    }\n",
              "\n",
              "    [theme=dark] .colab-df-convert:hover {\n",
              "      background-color: #434B5C;\n",
              "      box-shadow: 0px 1px 3px 1px rgba(0, 0, 0, 0.15);\n",
              "      filter: drop-shadow(0px 1px 2px rgba(0, 0, 0, 0.3));\n",
              "      fill: #FFFFFF;\n",
              "    }\n",
              "  </style>\n",
              "\n",
              "      <script>\n",
              "        const buttonEl =\n",
              "          document.querySelector('#df-7a947b08-1edf-4ce8-858e-f78f9294e8f3 button.colab-df-convert');\n",
              "        buttonEl.style.display =\n",
              "          google.colab.kernel.accessAllowed ? 'block' : 'none';\n",
              "\n",
              "        async function convertToInteractive(key) {\n",
              "          const element = document.querySelector('#df-7a947b08-1edf-4ce8-858e-f78f9294e8f3');\n",
              "          const dataTable =\n",
              "            await google.colab.kernel.invokeFunction('convertToInteractive',\n",
              "                                                     [key], {});\n",
              "          if (!dataTable) return;\n",
              "\n",
              "          const docLinkHtml = 'Like what you see? Visit the ' +\n",
              "            '<a target=\"_blank\" href=https://colab.research.google.com/notebooks/data_table.ipynb>data table notebook</a>'\n",
              "            + ' to learn more about interactive tables.';\n",
              "          element.innerHTML = '';\n",
              "          dataTable['output_type'] = 'display_data';\n",
              "          await google.colab.output.renderOutput(dataTable, element);\n",
              "          const docLink = document.createElement('div');\n",
              "          docLink.innerHTML = docLinkHtml;\n",
              "          element.appendChild(docLink);\n",
              "        }\n",
              "      </script>\n",
              "    </div>\n",
              "  </div>\n",
              "  "
            ]
          },
          "metadata": {},
          "execution_count": 561
        }
      ]
    },
    {
      "cell_type": "markdown",
      "source": [
        "Явных аномалий нет."
      ],
      "metadata": {
        "id": "4VYBbkh62aD6"
      }
    },
    {
      "cell_type": "markdown",
      "source": [
        "Выведем список названий столбцов:"
      ],
      "metadata": {
        "id": "ankJopnO3BjS"
      }
    },
    {
      "cell_type": "code",
      "source": [
        "df_msft.columns"
      ],
      "metadata": {
        "id": "ue0FOISH2yxp",
        "colab": {
          "base_uri": "https://localhost:8080/"
        },
        "outputId": "d7e1a015-1e15-47ed-9e6d-714b743b51d0"
      },
      "execution_count": null,
      "outputs": [
        {
          "output_type": "execute_result",
          "data": {
            "text/plain": [
              "Index(['Date', 'Open', 'High', 'Low', 'Close', 'Volume', 'OpenInt'], dtype='object')"
            ]
          },
          "metadata": {},
          "execution_count": 562
        }
      ]
    },
    {
      "cell_type": "markdown",
      "source": [
        "\n",
        "\n",
        "*   'Open', 'High', 'Low', 'Close' - цена акции при открытии торгового дня, максимальная цена, минимальная цена, цена при закрытии соответственно.\n",
        "*   'Volume' - количество проданных акций.\n",
        "*   'OpenInt' - этот параметр опускаем, как несущественный.\n",
        "\n",
        "\n",
        "\n",
        "\n",
        "\n",
        "\n",
        "\n"
      ],
      "metadata": {
        "id": "OkvSCQxj36WT"
      }
    },
    {
      "cell_type": "markdown",
      "source": [
        "### 2. Подготовка данных."
      ],
      "metadata": {
        "id": "kfKL5maX5Fmx"
      }
    },
    {
      "cell_type": "markdown",
      "source": [
        "**Для исследования возьмем последние 1996 строк, то есть за период с 2009-12-09 по 2017-11-10:**"
      ],
      "metadata": {
        "id": "2dc41Z-oKT8T"
      }
    },
    {
      "cell_type": "markdown",
      "source": [
        "**Предсказывать будем 'Close' - цену акции при закрытии торгового дня.**"
      ],
      "metadata": {
        "id": "_Hn5Xubh-jMI"
      }
    },
    {
      "cell_type": "markdown",
      "source": [
        "Посмотрим на графике динамику изменения цены ('Close'):"
      ],
      "metadata": {
        "id": "EjTYR2jgLQJS"
      }
    },
    {
      "cell_type": "code",
      "source": [
        "df_msft[-1996:].plot(x=\"Date\", y=\"Close\", figsize=(15, 6))\n",
        "plt.ylabel(\"Цена акции\")\n",
        "plt.title(\"Акции Microsoft\")\n",
        "plt.show()"
      ],
      "metadata": {
        "colab": {
          "base_uri": "https://localhost:8080/",
          "height": 383
        },
        "id": "zmfPAHOI9_7i",
        "outputId": "91632e15-07fe-41fa-94c0-384f4eb462af"
      },
      "execution_count": null,
      "outputs": [
        {
          "output_type": "display_data",
          "data": {
            "text/plain": [
              "<Figure size 1080x432 with 1 Axes>"
            ],
            "image/png": "[encoded data removed]"
          },
          "metadata": {
            "needs_background": "light"
          }
        }
      ]
    },
    {
      "cell_type": "markdown",
      "source": [
        "Рассчитаем и визуализируем процентное изменение цены между текущим и предыдущим элементом:"
      ],
      "metadata": {
        "id": "EdZP2BNjPMSV"
      }
    },
    {
      "cell_type": "code",
      "source": [
        "df_msft['pct'] = df_msft['Close'].pct_change()\n",
        "df_msft"
      ],
      "metadata": {
        "colab": {
          "base_uri": "https://localhost:8080/",
          "height": 423
        },
        "id": "hzeiOmUiPiES",
        "outputId": "0696ed7f-fac0-48b2-8cce-4c2c80488d22"
      },
      "execution_count": null,
      "outputs": [
        {
          "output_type": "execute_result",
          "data": {
            "text/plain": [
              "           Date      Open      High       Low     Close      Volume  OpenInt  \\\n",
              "0    1986-03-13   0.06720   0.07533   0.06720   0.07533  1371330506        0   \n",
              "1    1986-03-14   0.07533   0.07533   0.07533   0.07533   409569463        0   \n",
              "2    1986-03-17   0.07533   0.07533   0.07533   0.07533   176995245        0   \n",
              "3    1986-03-18   0.07533   0.07533   0.07533   0.07533    90067008        0   \n",
              "4    1986-03-19   0.07533   0.07533   0.07533   0.07533    63655515        0   \n",
              "...         ...       ...       ...       ...       ...         ...      ...   \n",
              "7978 2017-11-06  84.20000  84.70000  84.08250  84.47000    19852151        0   \n",
              "7979 2017-11-07  84.77000  84.90000  83.93000  84.26000    17927878        0   \n",
              "7980 2017-11-08  84.14000  84.61000  83.83000  84.56000    18029584        0   \n",
              "7981 2017-11-09  84.11000  84.27000  82.90000  84.09000    21175384        0   \n",
              "7982 2017-11-10  83.79000  84.09500  83.23000  83.87000    19396301        0   \n",
              "\n",
              "           pct  \n",
              "0          NaN  \n",
              "1     0.000000  \n",
              "2     0.000000  \n",
              "3     0.000000  \n",
              "4     0.000000  \n",
              "...        ...  \n",
              "7978  0.003922  \n",
              "7979 -0.002486  \n",
              "7980  0.003560  \n",
              "7981 -0.005558  \n",
              "7982 -0.002616  \n",
              "\n",
              "[7983 rows x 8 columns]"
            ],
            "text/html": [
              "\n",
              "  <div id=\"df-2be1f542-89ba-4a2f-804d-1855559a29b1\">\n",
              "    <div class=\"colab-df-container\">\n",
              "      <div>\n",
              "<style scoped>\n",
              "    .dataframe tbody tr th:only-of-type {\n",
              "        vertical-align: middle;\n",
              "    }\n",
              "\n",
              "    .dataframe tbody tr th {\n",
              "        vertical-align: top;\n",
              "    }\n",
              "\n",
              "    .dataframe thead th {\n",
              "        text-align: right;\n",
              "    }\n",
              "</style>\n",
              "<table border=\"1\" class=\"dataframe\">\n",
              "  <thead>\n",
              "    <tr style=\"text-align: right;\">\n",
              "      <th></th>\n",
              "      <th>Date</th>\n",
              "      <th>Open</th>\n",
              "      <th>High</th>\n",
              "      <th>Low</th>\n",
              "      <th>Close</th>\n",
              "      <th>Volume</th>\n",
              "      <th>OpenInt</th>\n",
              "      <th>pct</th>\n",
              "    </tr>\n",
              "  </thead>\n",
              "  <tbody>\n",
              "    <tr>\n",
              "      <th>0</th>\n",
              "      <td>1986-03-13</td>\n",
              "      <td>0.06720</td>\n",
              "      <td>0.07533</td>\n",
              "      <td>0.06720</td>\n",
              "      <td>0.07533</td>\n",
              "      <td>1371330506</td>\n",
              "      <td>0</td>\n",
              "      <td>NaN</td>\n",
              "    </tr>\n",
              "    <tr>\n",
              "      <th>1</th>\n",
              "      <td>1986-03-14</td>\n",
              "      <td>0.07533</td>\n",
              "      <td>0.07533</td>\n",
              "      <td>0.07533</td>\n",
              "      <td>0.07533</td>\n",
              "      <td>409569463</td>\n",
              "      <td>0</td>\n",
              "      <td>0.000000</td>\n",
              "    </tr>\n",
              "    <tr>\n",
              "      <th>2</th>\n",
              "      <td>1986-03-17</td>\n",
              "      <td>0.07533</td>\n",
              "      <td>0.07533</td>\n",
              "      <td>0.07533</td>\n",
              "      <td>0.07533</td>\n",
              "      <td>176995245</td>\n",
              "      <td>0</td>\n",
              "      <td>0.000000</td>\n",
              "    </tr>\n",
              "    <tr>\n",
              "      <th>3</th>\n",
              "      <td>1986-03-18</td>\n",
              "      <td>0.07533</td>\n",
              "      <td>0.07533</td>\n",
              "      <td>0.07533</td>\n",
              "      <td>0.07533</td>\n",
              "      <td>90067008</td>\n",
              "      <td>0</td>\n",
              "      <td>0.000000</td>\n",
              "    </tr>\n",
              "    <tr>\n",
              "      <th>4</th>\n",
              "      <td>1986-03-19</td>\n",
              "      <td>0.07533</td>\n",
              "      <td>0.07533</td>\n",
              "      <td>0.07533</td>\n",
              "      <td>0.07533</td>\n",
              "      <td>63655515</td>\n",
              "      <td>0</td>\n",
              "      <td>0.000000</td>\n",
              "    </tr>\n",
              "    <tr>\n",
              "      <th>...</th>\n",
              "      <td>...</td>\n",
              "      <td>...</td>\n",
              "      <td>...</td>\n",
              "      <td>...</td>\n",
              "      <td>...</td>\n",
              "      <td>...</td>\n",
              "      <td>...</td>\n",
              "      <td>...</td>\n",
              "    </tr>\n",
              "    <tr>\n",
              "      <th>7978</th>\n",
              "      <td>2017-11-06</td>\n",
              "      <td>84.20000</td>\n",
              "      <td>84.70000</td>\n",
              "      <td>84.08250</td>\n",
              "      <td>84.47000</td>\n",
              "      <td>19852151</td>\n",
              "      <td>0</td>\n",
              "      <td>0.003922</td>\n",
              "    </tr>\n",
              "    <tr>\n",
              "      <th>7979</th>\n",
              "      <td>2017-11-07</td>\n",
              "      <td>84.77000</td>\n",
              "      <td>84.90000</td>\n",
              "      <td>83.93000</td>\n",
              "      <td>84.26000</td>\n",
              "      <td>17927878</td>\n",
              "      <td>0</td>\n",
              "      <td>-0.002486</td>\n",
              "    </tr>\n",
              "    <tr>\n",
              "      <th>7980</th>\n",
              "      <td>2017-11-08</td>\n",
              "      <td>84.14000</td>\n",
              "      <td>84.61000</td>\n",
              "      <td>83.83000</td>\n",
              "      <td>84.56000</td>\n",
              "      <td>18029584</td>\n",
              "      <td>0</td>\n",
              "      <td>0.003560</td>\n",
              "    </tr>\n",
              "    <tr>\n",
              "      <th>7981</th>\n",
              "      <td>2017-11-09</td>\n",
              "      <td>84.11000</td>\n",
              "      <td>84.27000</td>\n",
              "      <td>82.90000</td>\n",
              "      <td>84.09000</td>\n",
              "      <td>21175384</td>\n",
              "      <td>0</td>\n",
              "      <td>-0.005558</td>\n",
              "    </tr>\n",
              "    <tr>\n",
              "      <th>7982</th>\n",
              "      <td>2017-11-10</td>\n",
              "      <td>83.79000</td>\n",
              "      <td>84.09500</td>\n",
              "      <td>83.23000</td>\n",
              "      <td>83.87000</td>\n",
              "      <td>19396301</td>\n",
              "      <td>0</td>\n",
              "      <td>-0.002616</td>\n",
              "    </tr>\n",
              "  </tbody>\n",
              "</table>\n",
              "<p>7983 rows × 8 columns</p>\n",
              "</div>\n",
              "      <button class=\"colab-df-convert\" onclick=\"convertToInteractive('df-2be1f542-89ba-4a2f-804d-1855559a29b1')\"\n",
              "              title=\"Convert this dataframe to an interactive table.\"\n",
              "              style=\"display:none;\">\n",
              "        \n",
              "  <svg xmlns=\"http://www.w3.org/2000/svg\" height=\"24px\"viewBox=\"0 0 24 24\"\n",
              "       width=\"24px\">\n",
              "    <path d=\"M0 0h24v24H0V0z\" fill=\"none\"/>\n",
              "    <path d=\"M18.56 5.44l.94 2.06.94-2.06 2.06-.94-2.06-.94-.94-2.06-.94 2.06-2.06.94zm-11 1L8.5 8.5l.94-2.06 2.06-.94-2.06-.94L8.5 2.5l-.94 2.06-2.06.94zm10 10l.94 2.06.94-2.06 2.06-.94-2.06-.94-.94-2.06-.94 2.06-2.06.94z\"/><path d=\"M17.41 7.96l-1.37-1.37c-.4-.4-.92-.59-1.43-.59-.52 0-1.04.2-1.43.59L10.3 9.45l-7.72 7.72c-.78.78-.78 2.05 0 2.83L4 21.41c.39.39.9.59 1.41.59.51 0 1.02-.2 1.41-.59l7.78-7.78 2.81-2.81c.8-.78.8-2.07 0-2.86zM5.41 20L4 18.59l7.72-7.72 1.47 1.35L5.41 20z\"/>\n",
              "  </svg>\n",
              "      </button>\n",
              "      \n",
              "  <style>\n",
              "    .colab-df-container {\n",
              "      display:flex;\n",
              "      flex-wrap:wrap;\n",
              "      gap: 12px;\n",
              "    }\n",
              "\n",
              "    .colab-df-convert {\n",
              "      background-color: #E8F0FE;\n",
              "      border: none;\n",
              "      border-radius: 50%;\n",
              "      cursor: pointer;\n",
              "      display: none;\n",
              "      fill: #1967D2;\n",
              "      height: 32px;\n",
              "      padding: 0 0 0 0;\n",
              "      width: 32px;\n",
              "    }\n",
              "\n",
              "    .colab-df-convert:hover {\n",
              "      background-color: #E2EBFA;\n",
              "      box-shadow: 0px 1px 2px rgba(60, 64, 67, 0.3), 0px 1px 3px 1px rgba(60, 64, 67, 0.15);\n",
              "      fill: #174EA6;\n",
              "    }\n",
              "\n",
              "    [theme=dark] .colab-df-convert {\n",
              "      background-color: #3B4455;\n",
              "      fill: #D2E3FC;\n",
              "    }\n",
              "\n",
              "    [theme=dark] .colab-df-convert:hover {\n",
              "      background-color: #434B5C;\n",
              "      box-shadow: 0px 1px 3px 1px rgba(0, 0, 0, 0.15);\n",
              "      filter: drop-shadow(0px 1px 2px rgba(0, 0, 0, 0.3));\n",
              "      fill: #FFFFFF;\n",
              "    }\n",
              "  </style>\n",
              "\n",
              "      <script>\n",
              "        const buttonEl =\n",
              "          document.querySelector('#df-2be1f542-89ba-4a2f-804d-1855559a29b1 button.colab-df-convert');\n",
              "        buttonEl.style.display =\n",
              "          google.colab.kernel.accessAllowed ? 'block' : 'none';\n",
              "\n",
              "        async function convertToInteractive(key) {\n",
              "          const element = document.querySelector('#df-2be1f542-89ba-4a2f-804d-1855559a29b1');\n",
              "          const dataTable =\n",
              "            await google.colab.kernel.invokeFunction('convertToInteractive',\n",
              "                                                     [key], {});\n",
              "          if (!dataTable) return;\n",
              "\n",
              "          const docLinkHtml = 'Like what you see? Visit the ' +\n",
              "            '<a target=\"_blank\" href=https://colab.research.google.com/notebooks/data_table.ipynb>data table notebook</a>'\n",
              "            + ' to learn more about interactive tables.';\n",
              "          element.innerHTML = '';\n",
              "          dataTable['output_type'] = 'display_data';\n",
              "          await google.colab.output.renderOutput(dataTable, element);\n",
              "          const docLink = document.createElement('div');\n",
              "          docLink.innerHTML = docLinkHtml;\n",
              "          element.appendChild(docLink);\n",
              "        }\n",
              "      </script>\n",
              "    </div>\n",
              "  </div>\n",
              "  "
            ]
          },
          "metadata": {},
          "execution_count": 1058
        }
      ]
    },
    {
      "cell_type": "code",
      "source": [
        "df_msft[-1996:].plot(x=\"Date\", y=\"pct\", figsize=(15, 6))\n",
        "plt.ylabel(\"Процентное изменение\")\n",
        "plt.title(\"Акции Microsoft\")\n",
        "plt.show()"
      ],
      "metadata": {
        "colab": {
          "base_uri": "https://localhost:8080/",
          "height": 383
        },
        "id": "ikDljS-e-1Yp",
        "outputId": "a3513c4e-bca6-48c7-83b6-8e7453d9788d"
      },
      "execution_count": null,
      "outputs": [
        {
          "output_type": "display_data",
          "data": {
            "text/plain": [
              "<Figure size 1080x432 with 1 Axes>"
            ],
            "image/png": "[encoded data removed]"
          },
          "metadata": {
            "needs_background": "light"
          }
        }
      ]
    },
    {
      "cell_type": "markdown",
      "source": [
        "Представим в виде отдельной таблицы:"
      ],
      "metadata": {
        "id": "c_QNuiO-AtF8"
      }
    },
    {
      "cell_type": "code",
      "source": [
        "df = df_msft[-1996:]\n",
        "#df"
      ],
      "metadata": {
        "id": "qDMz8Fx41Woe"
      },
      "execution_count": null,
      "outputs": []
    },
    {
      "cell_type": "code",
      "source": [
        "df=df[['Close']]\n",
        "df.info()"
      ],
      "metadata": {
        "id": "taY5oEt4aGZL",
        "colab": {
          "base_uri": "https://localhost:8080/"
        },
        "outputId": "aa18176a-a9e1-4b52-cd32-75be21d30550"
      },
      "execution_count": null,
      "outputs": [
        {
          "output_type": "stream",
          "name": "stdout",
          "text": [
            "<class 'pandas.core.frame.DataFrame'>\n",
            "RangeIndex: 1996 entries, 5987 to 7982\n",
            "Data columns (total 1 columns):\n",
            " #   Column  Non-Null Count  Dtype  \n",
            "---  ------  --------------  -----  \n",
            " 0   Close   1996 non-null   float64\n",
            "dtypes: float64(1)\n",
            "memory usage: 15.7 KB\n"
          ]
        }
      ]
    },
    {
      "cell_type": "markdown",
      "source": [
        "Разделим датафрейм на обучающую и тренировочную части:"
      ],
      "metadata": {
        "id": "TbAH5ga9mAsx"
      }
    },
    {
      "cell_type": "code",
      "source": [
        "test_size = int(np.round(0.16*df.shape[0]))-3;\n",
        "train_size = int(np.round(df.shape[0])) - test_size\n",
        "print(train_size)\n",
        "print(test_size)"
      ],
      "metadata": {
        "colab": {
          "base_uri": "https://localhost:8080/"
        },
        "id": "7qjAvWdkmJU4",
        "outputId": "bf9dcce1-1a6d-4b6f-f7e8-c7de3ad880e1"
      },
      "execution_count": null,
      "outputs": [
        {
          "output_type": "stream",
          "name": "stdout",
          "text": [
            "1680\n",
            "316\n"
          ]
        }
      ]
    },
    {
      "cell_type": "markdown",
      "source": [
        "Выберем \"тренировочное окно\" равным 70, поскольку как обучающую, так и тестовую часть данных в дальнейшем разобьем на последовательности длиной 70, и плюс 71-значение будем считать \"меткой\". Таким образои, сведем задачу к задаче классификации."
      ],
      "metadata": {
        "id": "va5e6PeSA_49"
      }
    },
    {
      "cell_type": "code",
      "source": [
        "train_window = 70"
      ],
      "metadata": {
        "id": "yzkGSsRFypn9"
      },
      "execution_count": null,
      "outputs": []
    },
    {
      "cell_type": "code",
      "source": [
        "#df_train = df[:-test_size+train_window+1].loc[:]\n",
        "df_train = df[:-test_size+1].loc[:]\n",
        "#df_train"
      ],
      "metadata": {
        "id": "XV0XbMFqmsLz"
      },
      "execution_count": null,
      "outputs": []
    },
    {
      "cell_type": "code",
      "source": [
        "#df_test = df[-test_size:].loc[:]\n",
        "df_test = df[-test_size:]\n",
        "#df_test"
      ],
      "metadata": {
        "id": "SkRRhZDbdlfq"
      },
      "execution_count": null,
      "outputs": []
    },
    {
      "cell_type": "markdown",
      "source": [
        "Независимо нормализуем  данные обучающего и тестового наборов:"
      ],
      "metadata": {
        "id": "h04Rk4IWqWMw"
      }
    },
    {
      "cell_type": "code",
      "source": [
        "df_train=df_train.fillna(method='ffill')\n",
        "df_test=df_test.fillna(method='ffill')"
      ],
      "metadata": {
        "id": "IdVUSVXTG2Jm"
      },
      "execution_count": null,
      "outputs": []
    },
    {
      "cell_type": "code",
      "source": [
        "scaler = MinMaxScaler(feature_range=(-1, 1))\n",
        "df_train['Close'] = scaler.fit_transform(df_train['Close'].values.reshape(-1,1))\n",
        "df_test['Close'] = scaler.fit_transform(df_test['Close'].values.reshape(-1,1))"
      ],
      "metadata": {
        "id": "y5eS-oeCaI4q"
      },
      "execution_count": null,
      "outputs": []
    },
    {
      "cell_type": "markdown",
      "source": [
        "Создаем последовательности:"
      ],
      "metadata": {
        "id": "PpSPCVl2zBKz"
      }
    },
    {
      "cell_type": "code",
      "source": [
        "# создаем последовательности для обучающего набора\n",
        "data_temp = df_train.values\n",
        "data = []\n",
        "\n",
        "for index in range(len(data_temp) - train_window):\n",
        "  data.append(data_temp[index: index + train_window+1])\n",
        "\n",
        "data = np.array(data)\n",
        "x_train = data[:,:-1,:]\n",
        "y_train = data[:,-1,:]"
      ],
      "metadata": {
        "id": "efRdWYFfy_85"
      },
      "execution_count": null,
      "outputs": []
    },
    {
      "cell_type": "code",
      "source": [
        "# создаем последовательности для тестового набора\n",
        "data_temp = df_test.values\n",
        "data = []\n",
        "local_temp = train_window+1\n",
        "for index in range(len(data_temp) - train_window):\n",
        "#for index in range(len(data_temp) - local_temp):\n",
        "  data.append(data_temp[index: index + train_window+1])\n",
        "\n",
        "data = np.array(data)\n",
        "x_test = data[:,:-1]\n",
        "y_test = data[:,-1,:]\n",
        "#len(x_test)"
      ],
      "metadata": {
        "id": "mDjSy4F_2ojJ"
      },
      "execution_count": null,
      "outputs": []
    },
    {
      "cell_type": "code",
      "source": [
        "print('x_train.shape = ',x_train.shape)\n",
        "print('y_train.shape = ',y_train.shape)\n",
        "print('x_test.shape = ',x_test.shape)\n",
        "print('y_test.shape = ',y_test.shape)"
      ],
      "metadata": {
        "id": "owYwGgvptllW",
        "colab": {
          "base_uri": "https://localhost:8080/"
        },
        "outputId": "e598266d-618b-4f3f-8dd9-67f71c5fe929"
      },
      "execution_count": null,
      "outputs": [
        {
          "output_type": "stream",
          "name": "stdout",
          "text": [
            "x_train.shape =  (1611, 70, 1)\n",
            "y_train.shape =  (1611, 1)\n",
            "x_test.shape =  (246, 70, 1)\n",
            "y_test.shape =  (246, 1)\n"
          ]
        }
      ]
    },
    {
      "cell_type": "markdown",
      "source": [
        "В итоге получили 1611 последовательность обучающего набора и 246 последовательностей тестового набора."
      ],
      "metadata": {
        "id": "hicQbsYmS3pM"
      }
    },
    {
      "cell_type": "markdown",
      "source": [
        "Преобразуем в тензоры Torch:"
      ],
      "metadata": {
        "id": "BSJyU6N2EE6F"
      }
    },
    {
      "cell_type": "code",
      "source": [
        "x_train = torch.from_numpy(x_train).type(torch.Tensor)\n",
        "x_test = torch.from_numpy(x_test).type(torch.Tensor)\n",
        "y_train = torch.from_numpy(y_train).type(torch.Tensor)\n",
        "y_test = torch.from_numpy(y_test).type(torch.Tensor)"
      ],
      "metadata": {
        "id": "21hM5zvjGXhy"
      },
      "execution_count": null,
      "outputs": []
    },
    {
      "cell_type": "code",
      "source": [
        "y_train.size(),x_train.size()"
      ],
      "metadata": {
        "id": "fiioyCh5bz_z",
        "colab": {
          "base_uri": "https://localhost:8080/"
        },
        "outputId": "4522edc1-7484-4cd5-e1f1-024128f633c2"
      },
      "execution_count": null,
      "outputs": [
        {
          "output_type": "execute_result",
          "data": {
            "text/plain": [
              "(torch.Size([1611, 1]), torch.Size([1611, 70, 1]))"
            ]
          },
          "metadata": {},
          "execution_count": 578
        }
      ]
    },
    {
      "cell_type": "markdown",
      "source": [
        "### 3. Создание модели."
      ],
      "metadata": {
        "id": "-9eW5qkbSHvz"
      }
    },
    {
      "cell_type": "markdown",
      "source": [
        "Опишем модель как как класс LSTM с входом и выходом равными = 1 и 32 -мя скрытыми слоями:"
      ],
      "metadata": {
        "id": "XVC9pt3jH1zu"
      }
    },
    {
      "cell_type": "code",
      "source": [
        "input_dim = 1\n",
        "hidden_dim = 32\n",
        "num_layers = 2 \n",
        "output_dim = 1\n",
        "\n",
        "# Определяем модель как класс\n",
        "class LSTM(nn.Module):\n",
        "    def __init__(self, input_dim, hidden_dim, num_layers, output_dim):\n",
        "        super(LSTM, self).__init__()\n",
        "        # Hidden dimensions\n",
        "        self.hidden_dim = hidden_dim\n",
        "\n",
        "        # Number of hidden layers\n",
        "        self.num_layers = num_layers\n",
        "\n",
        "        self.lstm = nn.LSTM(input_dim, hidden_dim, num_layers, batch_first=True)\n",
        "\n",
        "        # Readout layer\n",
        "        self.fc = nn.Linear(hidden_dim, output_dim)\n",
        "\n",
        "    def forward(self, x):\n",
        "        # Initialize hidden state with zeros\n",
        "        h0 = torch.zeros(self.num_layers, x.size(0), self.hidden_dim).requires_grad_()\n",
        "\n",
        "        # Initialize cell state\n",
        "        c0 = torch.zeros(self.num_layers, x.size(0), self.hidden_dim).requires_grad_()\n",
        "\n",
        "        out, (hn, cn) = self.lstm(x, (h0.detach(), c0.detach()))\n",
        "\n",
        "        out = self.fc(out[:, -1, :]) \n",
        "        \n",
        "        return out"
      ],
      "metadata": {
        "id": "eKs1zFdtcISv"
      },
      "execution_count": null,
      "outputs": []
    },
    {
      "cell_type": "markdown",
      "source": [
        "Определяем объект класса LSTM, функцию потерь и оптимизатор. Поскольку решаем задачу классификации, то будем использовать кросс-энтропию как функцию потерь. В качестве оптимизатора используем оптимизатор Аdam:"
      ],
      "metadata": {
        "id": "lEaHQghgIVHl"
      }
    },
    {
      "cell_type": "code",
      "source": [
        "model = LSTM(input_dim=input_dim, hidden_dim=hidden_dim, output_dim=output_dim, num_layers=num_layers)\n",
        "\n",
        "loss_fn = torch.nn.MSELoss()\n",
        "\n",
        "optimiser = torch.optim.Adam(model.parameters(), lr=0.01)\n",
        "print(model)\n",
        "print(len(list(model.parameters())))\n",
        "for i in range(len(list(model.parameters()))):\n",
        "    print(list(model.parameters())[i].size())"
      ],
      "metadata": {
        "colab": {
          "base_uri": "https://localhost:8080/"
        },
        "id": "pyrueywcKb8r",
        "outputId": "f3635a3b-97eb-412c-86bd-6f225700ae26"
      },
      "execution_count": null,
      "outputs": [
        {
          "output_type": "stream",
          "name": "stdout",
          "text": [
            "LSTM(\n",
            "  (lstm): LSTM(1, 32, num_layers=2, batch_first=True)\n",
            "  (fc): Linear(in_features=32, out_features=1, bias=True)\n",
            ")\n",
            "10\n",
            "torch.Size([128, 1])\n",
            "torch.Size([128, 32])\n",
            "torch.Size([128])\n",
            "torch.Size([128])\n",
            "torch.Size([128, 32])\n",
            "torch.Size([128, 32])\n",
            "torch.Size([128])\n",
            "torch.Size([128])\n",
            "torch.Size([1, 32])\n",
            "torch.Size([1])\n"
          ]
        }
      ]
    },
    {
      "cell_type": "markdown",
      "source": [
        "### 4. Тренировка модели."
      ],
      "metadata": {
        "id": "CIaYiEnFI0S8"
      }
    },
    {
      "cell_type": "markdown",
      "source": [
        "Укажем количество эпох и тренируем модель:"
      ],
      "metadata": {
        "id": "tmVNumn7I8AW"
      }
    },
    {
      "cell_type": "code",
      "source": [
        "num_epochs = 200\n",
        "hist = np.zeros(num_epochs)\n",
        "\n",
        "# Шаг тренировки\n",
        "seq_dim = train_window\n",
        "\n",
        "for t in range(num_epochs):\n",
        "    \n",
        "    # Forward pass\n",
        "    y_train_pred = model(x_train)\n",
        "\n",
        "    loss = loss_fn(y_train_pred, y_train)\n",
        "    if t % 10 == 0 and t !=0:\n",
        "        print(\"Epoch \", t, \"MSE: \", loss.item())\n",
        "    hist[t] = loss.item()\n",
        "\n",
        "    optimiser.zero_grad()\n",
        "\n",
        "    # Backward pass\n",
        "    loss.backward()\n",
        "\n",
        "    # Update parameters\n",
        "    optimiser.step()"
      ],
      "metadata": {
        "id": "PVENvy0WHZQh",
        "colab": {
          "base_uri": "https://localhost:8080/"
        },
        "outputId": "d4747deb-7cf1-469a-c223-a6c83f4a79ae"
      },
      "execution_count": null,
      "outputs": [
        {
          "output_type": "stream",
          "name": "stdout",
          "text": [
            "Epoch  10 MSE:  0.03738957270979881\n",
            "Epoch  20 MSE:  0.024624882265925407\n",
            "Epoch  30 MSE:  0.011697577312588692\n",
            "Epoch  40 MSE:  0.006856844760477543\n",
            "Epoch  50 MSE:  0.004149386193603277\n",
            "Epoch  60 MSE:  0.0028860748279839754\n",
            "Epoch  70 MSE:  0.002442588796839118\n",
            "Epoch  80 MSE:  0.002155869733542204\n",
            "Epoch  90 MSE:  0.00199541705660522\n",
            "Epoch  100 MSE:  0.0019156262278556824\n",
            "Epoch  110 MSE:  0.0018691789591684937\n",
            "Epoch  120 MSE:  0.0018331775208935142\n",
            "Epoch  130 MSE:  0.001802006270736456\n",
            "Epoch  140 MSE:  0.001770813949406147\n",
            "Epoch  150 MSE:  0.0017395152244716883\n",
            "Epoch  160 MSE:  0.0017083699349313974\n",
            "Epoch  170 MSE:  0.0016774212708696723\n",
            "Epoch  180 MSE:  0.0016466999659314752\n",
            "Epoch  190 MSE:  0.0016162731917575002\n"
          ]
        }
      ]
    },
    {
      "cell_type": "markdown",
      "source": [
        "График функции потерь:"
      ],
      "metadata": {
        "id": "NF2qqt94LGtJ"
      }
    },
    {
      "cell_type": "code",
      "source": [
        "plt.plot(hist, label=\"Training loss\")\n",
        "plt.legend()\n",
        "plt.show()"
      ],
      "metadata": {
        "id": "mM2N-EEMwea3",
        "colab": {
          "base_uri": "https://localhost:8080/",
          "height": 265
        },
        "outputId": "67f0b8e1-0386-4fc0-a8dc-d618612470f5"
      },
      "execution_count": null,
      "outputs": [
        {
          "output_type": "display_data",
          "data": {
            "text/plain": [
              "<Figure size 432x288 with 1 Axes>"
            ],
            "image/png": "[encoded data removed]"
          },
          "metadata": {
            "needs_background": "light"
          }
        }
      ]
    },
    {
      "cell_type": "markdown",
      "source": [
        "### 5. Прогнозирование."
      ],
      "metadata": {
        "id": "Mdhy9JYDLtiP"
      }
    },
    {
      "cell_type": "code",
      "source": [
        "# выполняем предсказание\n",
        "y_test_pred = model(x_test)\n",
        "\n",
        "# инвертируем результаты\n",
        "y_train_pred = scaler.inverse_transform(y_train_pred.detach().numpy())\n",
        "y_train = scaler.inverse_transform(y_train.detach().numpy())\n",
        "y_test_pred = scaler.inverse_transform(y_test_pred.detach().numpy())\n",
        "y_test = scaler.inverse_transform(y_test.detach().numpy())\n",
        "\n",
        "# считаем среднеквадратичную ошибку\n",
        "trainScore = math.sqrt(mean_squared_error(y_train[:,0], y_train_pred[:,0]))\n",
        "print('Train Score: %.2f RMSE' % (trainScore))\n",
        "testScore = math.sqrt(mean_squared_error(y_test[:,0], y_test_pred[:,0]))\n",
        "print('Test Score: %.2f RMSE' % (testScore))"
      ],
      "metadata": {
        "colab": {
          "base_uri": "https://localhost:8080/"
        },
        "id": "iRF7lXG_yJzj",
        "outputId": "4983b7d2-ba0a-4e8d-cbcc-f07d92c0a1ea"
      },
      "execution_count": null,
      "outputs": [
        {
          "output_type": "stream",
          "name": "stdout",
          "text": [
            "Train Score: 0.59 RMSE\n",
            "Test Score: 0.90 RMSE\n"
          ]
        }
      ]
    },
    {
      "cell_type": "markdown",
      "source": [
        "Результаты предсказания цены акции представлены на графике:"
      ],
      "metadata": {
        "id": "005t_NGwMkCO"
      }
    },
    {
      "cell_type": "code",
      "source": [
        "figure, axes = plt.subplots(figsize=(15, 6))\n",
        "axes.plot(df[-240:].index, y_test[-240:], color = 'red', label = 'Real Microsoft Stock Price')\n",
        "axes.plot(df[-240:].index, y_test_pred[-240:], color = 'blue', label = 'Predicted Microsoft Stock Price')\n",
        "plt.title('Microsoft Stock Price Prediction')\n",
        "plt.xlabel('')\n",
        "plt.ylabel('Microsoft Stock Price')\n",
        "plt.legend()\n",
        "plt.savefig('Microsoft_pred_1.png')\n",
        "plt.show()"
      ],
      "metadata": {
        "colab": {
          "base_uri": "https://localhost:8080/",
          "height": 390
        },
        "id": "twAON6r1amJk",
        "outputId": "3653d6b2-0e9d-40d4-ab48-24325e7b4f57"
      },
      "execution_count": null,
      "outputs": [
        {
          "output_type": "display_data",
          "data": {
            "text/plain": [
              "<Figure size 1080x432 with 1 Axes>"
            ],
            "image/png": "[encoded data removed]"
          },
          "metadata": {
            "needs_background": "light"
          }
        }
      ]
    },
    {
      "cell_type": "markdown",
      "source": [
        "### 6. Прогнозирование с предобработкой."
      ],
      "metadata": {
        "id": "v5484sjpLcSs"
      }
    },
    {
      "cell_type": "markdown",
      "source": [
        ">  В предудущем разделе №5 в качестве baseline использовались \"сырые\" данные для построения прогноза. Это оправдано, например, в ситуацих нехватки времени. В данном же разделе выполним предобработку данных, а именно получим процентные изменения значений показателей по сравнению с предыдущим на временной шаг значением. И предсказывать будем не цену акции, а процентное изменение этой цены."
      ],
      "metadata": {
        "id": "W8jV8aOvLciW"
      }
    },
    {
      "cell_type": "markdown",
      "source": [
        "Выберем для исследования последние 1990 строк:"
      ],
      "metadata": {
        "id": "GcfNDOXXLco5"
      }
    },
    {
      "cell_type": "code",
      "source": [
        "df2 = df_msft[-1990:]\n",
        "df2"
      ],
      "metadata": {
        "colab": {
          "base_uri": "https://localhost:8080/",
          "height": 423
        },
        "id": "6fRMaXScQelM",
        "outputId": "4cb8ba7e-1dab-4c77-8044-283b973a2569"
      },
      "execution_count": null,
      "outputs": [
        {
          "output_type": "execute_result",
          "data": {
            "text/plain": [
              "           Date    Open    High      Low   Close     Volume  OpenInt       pct\n",
              "5993 2009-12-17  25.115  25.123  24.7970  24.824   52046708        0 -0.016560\n",
              "5994 2009-12-18  25.025  25.535  24.9890  25.458  112120128        0  0.025540\n",
              "5995 2009-12-21  25.475  25.862  25.4670  25.595   47586782        0  0.005381\n",
              "5996 2009-12-22  25.659  25.936  25.6110  25.846   43174657        0  0.009807\n",
              "5997 2009-12-23  25.745  25.954  25.7370  25.929   33788511        0  0.003211\n",
              "...         ...     ...     ...      ...     ...        ...      ...       ...\n",
              "7978 2017-11-06  84.200  84.700  84.0825  84.470   19852151        0  0.003922\n",
              "7979 2017-11-07  84.770  84.900  83.9300  84.260   17927878        0 -0.002486\n",
              "7980 2017-11-08  84.140  84.610  83.8300  84.560   18029584        0  0.003560\n",
              "7981 2017-11-09  84.110  84.270  82.9000  84.090   21175384        0 -0.005558\n",
              "7982 2017-11-10  83.790  84.095  83.2300  83.870   19396301        0 -0.002616\n",
              "\n",
              "[1990 rows x 8 columns]"
            ],
            "text/html": [
              "\n",
              "  <div id=\"df-ab55ad5c-f311-46ca-8b17-7edcbcea7099\">\n",
              "    <div class=\"colab-df-container\">\n",
              "      <div>\n",
              "<style scoped>\n",
              "    .dataframe tbody tr th:only-of-type {\n",
              "        vertical-align: middle;\n",
              "    }\n",
              "\n",
              "    .dataframe tbody tr th {\n",
              "        vertical-align: top;\n",
              "    }\n",
              "\n",
              "    .dataframe thead th {\n",
              "        text-align: right;\n",
              "    }\n",
              "</style>\n",
              "<table border=\"1\" class=\"dataframe\">\n",
              "  <thead>\n",
              "    <tr style=\"text-align: right;\">\n",
              "      <th></th>\n",
              "      <th>Date</th>\n",
              "      <th>Open</th>\n",
              "      <th>High</th>\n",
              "      <th>Low</th>\n",
              "      <th>Close</th>\n",
              "      <th>Volume</th>\n",
              "      <th>OpenInt</th>\n",
              "      <th>pct</th>\n",
              "    </tr>\n",
              "  </thead>\n",
              "  <tbody>\n",
              "    <tr>\n",
              "      <th>5993</th>\n",
              "      <td>2009-12-17</td>\n",
              "      <td>25.115</td>\n",
              "      <td>25.123</td>\n",
              "      <td>24.7970</td>\n",
              "      <td>24.824</td>\n",
              "      <td>52046708</td>\n",
              "      <td>0</td>\n",
              "      <td>-0.016560</td>\n",
              "    </tr>\n",
              "    <tr>\n",
              "      <th>5994</th>\n",
              "      <td>2009-12-18</td>\n",
              "      <td>25.025</td>\n",
              "      <td>25.535</td>\n",
              "      <td>24.9890</td>\n",
              "      <td>25.458</td>\n",
              "      <td>112120128</td>\n",
              "      <td>0</td>\n",
              "      <td>0.025540</td>\n",
              "    </tr>\n",
              "    <tr>\n",
              "      <th>5995</th>\n",
              "      <td>2009-12-21</td>\n",
              "      <td>25.475</td>\n",
              "      <td>25.862</td>\n",
              "      <td>25.4670</td>\n",
              "      <td>25.595</td>\n",
              "      <td>47586782</td>\n",
              "      <td>0</td>\n",
              "      <td>0.005381</td>\n",
              "    </tr>\n",
              "    <tr>\n",
              "      <th>5996</th>\n",
              "      <td>2009-12-22</td>\n",
              "      <td>25.659</td>\n",
              "      <td>25.936</td>\n",
              "      <td>25.6110</td>\n",
              "      <td>25.846</td>\n",
              "      <td>43174657</td>\n",
              "      <td>0</td>\n",
              "      <td>0.009807</td>\n",
              "    </tr>\n",
              "    <tr>\n",
              "      <th>5997</th>\n",
              "      <td>2009-12-23</td>\n",
              "      <td>25.745</td>\n",
              "      <td>25.954</td>\n",
              "      <td>25.7370</td>\n",
              "      <td>25.929</td>\n",
              "      <td>33788511</td>\n",
              "      <td>0</td>\n",
              "      <td>0.003211</td>\n",
              "    </tr>\n",
              "    <tr>\n",
              "      <th>...</th>\n",
              "      <td>...</td>\n",
              "      <td>...</td>\n",
              "      <td>...</td>\n",
              "      <td>...</td>\n",
              "      <td>...</td>\n",
              "      <td>...</td>\n",
              "      <td>...</td>\n",
              "      <td>...</td>\n",
              "    </tr>\n",
              "    <tr>\n",
              "      <th>7978</th>\n",
              "      <td>2017-11-06</td>\n",
              "      <td>84.200</td>\n",
              "      <td>84.700</td>\n",
              "      <td>84.0825</td>\n",
              "      <td>84.470</td>\n",
              "      <td>19852151</td>\n",
              "      <td>0</td>\n",
              "      <td>0.003922</td>\n",
              "    </tr>\n",
              "    <tr>\n",
              "      <th>7979</th>\n",
              "      <td>2017-11-07</td>\n",
              "      <td>84.770</td>\n",
              "      <td>84.900</td>\n",
              "      <td>83.9300</td>\n",
              "      <td>84.260</td>\n",
              "      <td>17927878</td>\n",
              "      <td>0</td>\n",
              "      <td>-0.002486</td>\n",
              "    </tr>\n",
              "    <tr>\n",
              "      <th>7980</th>\n",
              "      <td>2017-11-08</td>\n",
              "      <td>84.140</td>\n",
              "      <td>84.610</td>\n",
              "      <td>83.8300</td>\n",
              "      <td>84.560</td>\n",
              "      <td>18029584</td>\n",
              "      <td>0</td>\n",
              "      <td>0.003560</td>\n",
              "    </tr>\n",
              "    <tr>\n",
              "      <th>7981</th>\n",
              "      <td>2017-11-09</td>\n",
              "      <td>84.110</td>\n",
              "      <td>84.270</td>\n",
              "      <td>82.9000</td>\n",
              "      <td>84.090</td>\n",
              "      <td>21175384</td>\n",
              "      <td>0</td>\n",
              "      <td>-0.005558</td>\n",
              "    </tr>\n",
              "    <tr>\n",
              "      <th>7982</th>\n",
              "      <td>2017-11-10</td>\n",
              "      <td>83.790</td>\n",
              "      <td>84.095</td>\n",
              "      <td>83.2300</td>\n",
              "      <td>83.870</td>\n",
              "      <td>19396301</td>\n",
              "      <td>0</td>\n",
              "      <td>-0.002616</td>\n",
              "    </tr>\n",
              "  </tbody>\n",
              "</table>\n",
              "<p>1990 rows × 8 columns</p>\n",
              "</div>\n",
              "      <button class=\"colab-df-convert\" onclick=\"convertToInteractive('df-ab55ad5c-f311-46ca-8b17-7edcbcea7099')\"\n",
              "              title=\"Convert this dataframe to an interactive table.\"\n",
              "              style=\"display:none;\">\n",
              "        \n",
              "  <svg xmlns=\"http://www.w3.org/2000/svg\" height=\"24px\"viewBox=\"0 0 24 24\"\n",
              "       width=\"24px\">\n",
              "    <path d=\"M0 0h24v24H0V0z\" fill=\"none\"/>\n",
              "    <path d=\"M18.56 5.44l.94 2.06.94-2.06 2.06-.94-2.06-.94-.94-2.06-.94 2.06-2.06.94zm-11 1L8.5 8.5l.94-2.06 2.06-.94-2.06-.94L8.5 2.5l-.94 2.06-2.06.94zm10 10l.94 2.06.94-2.06 2.06-.94-2.06-.94-.94-2.06-.94 2.06-2.06.94z\"/><path d=\"M17.41 7.96l-1.37-1.37c-.4-.4-.92-.59-1.43-.59-.52 0-1.04.2-1.43.59L10.3 9.45l-7.72 7.72c-.78.78-.78 2.05 0 2.83L4 21.41c.39.39.9.59 1.41.59.51 0 1.02-.2 1.41-.59l7.78-7.78 2.81-2.81c.8-.78.8-2.07 0-2.86zM5.41 20L4 18.59l7.72-7.72 1.47 1.35L5.41 20z\"/>\n",
              "  </svg>\n",
              "      </button>\n",
              "      \n",
              "  <style>\n",
              "    .colab-df-container {\n",
              "      display:flex;\n",
              "      flex-wrap:wrap;\n",
              "      gap: 12px;\n",
              "    }\n",
              "\n",
              "    .colab-df-convert {\n",
              "      background-color: #E8F0FE;\n",
              "      border: none;\n",
              "      border-radius: 50%;\n",
              "      cursor: pointer;\n",
              "      display: none;\n",
              "      fill: #1967D2;\n",
              "      height: 32px;\n",
              "      padding: 0 0 0 0;\n",
              "      width: 32px;\n",
              "    }\n",
              "\n",
              "    .colab-df-convert:hover {\n",
              "      background-color: #E2EBFA;\n",
              "      box-shadow: 0px 1px 2px rgba(60, 64, 67, 0.3), 0px 1px 3px 1px rgba(60, 64, 67, 0.15);\n",
              "      fill: #174EA6;\n",
              "    }\n",
              "\n",
              "    [theme=dark] .colab-df-convert {\n",
              "      background-color: #3B4455;\n",
              "      fill: #D2E3FC;\n",
              "    }\n",
              "\n",
              "    [theme=dark] .colab-df-convert:hover {\n",
              "      background-color: #434B5C;\n",
              "      box-shadow: 0px 1px 3px 1px rgba(0, 0, 0, 0.15);\n",
              "      filter: drop-shadow(0px 1px 2px rgba(0, 0, 0, 0.3));\n",
              "      fill: #FFFFFF;\n",
              "    }\n",
              "  </style>\n",
              "\n",
              "      <script>\n",
              "        const buttonEl =\n",
              "          document.querySelector('#df-ab55ad5c-f311-46ca-8b17-7edcbcea7099 button.colab-df-convert');\n",
              "        buttonEl.style.display =\n",
              "          google.colab.kernel.accessAllowed ? 'block' : 'none';\n",
              "\n",
              "        async function convertToInteractive(key) {\n",
              "          const element = document.querySelector('#df-ab55ad5c-f311-46ca-8b17-7edcbcea7099');\n",
              "          const dataTable =\n",
              "            await google.colab.kernel.invokeFunction('convertToInteractive',\n",
              "                                                     [key], {});\n",
              "          if (!dataTable) return;\n",
              "\n",
              "          const docLinkHtml = 'Like what you see? Visit the ' +\n",
              "            '<a target=\"_blank\" href=https://colab.research.google.com/notebooks/data_table.ipynb>data table notebook</a>'\n",
              "            + ' to learn more about interactive tables.';\n",
              "          element.innerHTML = '';\n",
              "          dataTable['output_type'] = 'display_data';\n",
              "          await google.colab.output.renderOutput(dataTable, element);\n",
              "          const docLink = document.createElement('div');\n",
              "          docLink.innerHTML = docLinkHtml;\n",
              "          element.appendChild(docLink);\n",
              "        }\n",
              "      </script>\n",
              "    </div>\n",
              "  </div>\n",
              "  "
            ]
          },
          "metadata": {},
          "execution_count": 1082
        }
      ]
    },
    {
      "cell_type": "markdown",
      "source": [
        "Создаем отдельную таблицу с единственной (помимо индекса) колонкой 'pct'. В этой колонке содержатся предварительно рассчитанне процентные изменения цены:"
      ],
      "metadata": {
        "id": "JqHlCNMlcn_n"
      }
    },
    {
      "cell_type": "code",
      "source": [
        "df_pct=df2[['pct']]\n",
        "df_pct"
      ],
      "metadata": {
        "id": "GKkc2aJky7ja",
        "colab": {
          "base_uri": "https://localhost:8080/",
          "height": 423
        },
        "outputId": "9a74257f-a05f-4ab9-cace-ee914469cff8"
      },
      "execution_count": null,
      "outputs": [
        {
          "output_type": "execute_result",
          "data": {
            "text/plain": [
              "           pct\n",
              "5993 -0.016560\n",
              "5994  0.025540\n",
              "5995  0.005381\n",
              "5996  0.009807\n",
              "5997  0.003211\n",
              "...        ...\n",
              "7978  0.003922\n",
              "7979 -0.002486\n",
              "7980  0.003560\n",
              "7981 -0.005558\n",
              "7982 -0.002616\n",
              "\n",
              "[1990 rows x 1 columns]"
            ],
            "text/html": [
              "\n",
              "  <div id=\"df-9603383e-44b2-4420-8252-50c6888f0642\">\n",
              "    <div class=\"colab-df-container\">\n",
              "      <div>\n",
              "<style scoped>\n",
              "    .dataframe tbody tr th:only-of-type {\n",
              "        vertical-align: middle;\n",
              "    }\n",
              "\n",
              "    .dataframe tbody tr th {\n",
              "        vertical-align: top;\n",
              "    }\n",
              "\n",
              "    .dataframe thead th {\n",
              "        text-align: right;\n",
              "    }\n",
              "</style>\n",
              "<table border=\"1\" class=\"dataframe\">\n",
              "  <thead>\n",
              "    <tr style=\"text-align: right;\">\n",
              "      <th></th>\n",
              "      <th>pct</th>\n",
              "    </tr>\n",
              "  </thead>\n",
              "  <tbody>\n",
              "    <tr>\n",
              "      <th>5993</th>\n",
              "      <td>-0.016560</td>\n",
              "    </tr>\n",
              "    <tr>\n",
              "      <th>5994</th>\n",
              "      <td>0.025540</td>\n",
              "    </tr>\n",
              "    <tr>\n",
              "      <th>5995</th>\n",
              "      <td>0.005381</td>\n",
              "    </tr>\n",
              "    <tr>\n",
              "      <th>5996</th>\n",
              "      <td>0.009807</td>\n",
              "    </tr>\n",
              "    <tr>\n",
              "      <th>5997</th>\n",
              "      <td>0.003211</td>\n",
              "    </tr>\n",
              "    <tr>\n",
              "      <th>...</th>\n",
              "      <td>...</td>\n",
              "    </tr>\n",
              "    <tr>\n",
              "      <th>7978</th>\n",
              "      <td>0.003922</td>\n",
              "    </tr>\n",
              "    <tr>\n",
              "      <th>7979</th>\n",
              "      <td>-0.002486</td>\n",
              "    </tr>\n",
              "    <tr>\n",
              "      <th>7980</th>\n",
              "      <td>0.003560</td>\n",
              "    </tr>\n",
              "    <tr>\n",
              "      <th>7981</th>\n",
              "      <td>-0.005558</td>\n",
              "    </tr>\n",
              "    <tr>\n",
              "      <th>7982</th>\n",
              "      <td>-0.002616</td>\n",
              "    </tr>\n",
              "  </tbody>\n",
              "</table>\n",
              "<p>1990 rows × 1 columns</p>\n",
              "</div>\n",
              "      <button class=\"colab-df-convert\" onclick=\"convertToInteractive('df-9603383e-44b2-4420-8252-50c6888f0642')\"\n",
              "              title=\"Convert this dataframe to an interactive table.\"\n",
              "              style=\"display:none;\">\n",
              "        \n",
              "  <svg xmlns=\"http://www.w3.org/2000/svg\" height=\"24px\"viewBox=\"0 0 24 24\"\n",
              "       width=\"24px\">\n",
              "    <path d=\"M0 0h24v24H0V0z\" fill=\"none\"/>\n",
              "    <path d=\"M18.56 5.44l.94 2.06.94-2.06 2.06-.94-2.06-.94-.94-2.06-.94 2.06-2.06.94zm-11 1L8.5 8.5l.94-2.06 2.06-.94-2.06-.94L8.5 2.5l-.94 2.06-2.06.94zm10 10l.94 2.06.94-2.06 2.06-.94-2.06-.94-.94-2.06-.94 2.06-2.06.94z\"/><path d=\"M17.41 7.96l-1.37-1.37c-.4-.4-.92-.59-1.43-.59-.52 0-1.04.2-1.43.59L10.3 9.45l-7.72 7.72c-.78.78-.78 2.05 0 2.83L4 21.41c.39.39.9.59 1.41.59.51 0 1.02-.2 1.41-.59l7.78-7.78 2.81-2.81c.8-.78.8-2.07 0-2.86zM5.41 20L4 18.59l7.72-7.72 1.47 1.35L5.41 20z\"/>\n",
              "  </svg>\n",
              "      </button>\n",
              "      \n",
              "  <style>\n",
              "    .colab-df-container {\n",
              "      display:flex;\n",
              "      flex-wrap:wrap;\n",
              "      gap: 12px;\n",
              "    }\n",
              "\n",
              "    .colab-df-convert {\n",
              "      background-color: #E8F0FE;\n",
              "      border: none;\n",
              "      border-radius: 50%;\n",
              "      cursor: pointer;\n",
              "      display: none;\n",
              "      fill: #1967D2;\n",
              "      height: 32px;\n",
              "      padding: 0 0 0 0;\n",
              "      width: 32px;\n",
              "    }\n",
              "\n",
              "    .colab-df-convert:hover {\n",
              "      background-color: #E2EBFA;\n",
              "      box-shadow: 0px 1px 2px rgba(60, 64, 67, 0.3), 0px 1px 3px 1px rgba(60, 64, 67, 0.15);\n",
              "      fill: #174EA6;\n",
              "    }\n",
              "\n",
              "    [theme=dark] .colab-df-convert {\n",
              "      background-color: #3B4455;\n",
              "      fill: #D2E3FC;\n",
              "    }\n",
              "\n",
              "    [theme=dark] .colab-df-convert:hover {\n",
              "      background-color: #434B5C;\n",
              "      box-shadow: 0px 1px 3px 1px rgba(0, 0, 0, 0.15);\n",
              "      filter: drop-shadow(0px 1px 2px rgba(0, 0, 0, 0.3));\n",
              "      fill: #FFFFFF;\n",
              "    }\n",
              "  </style>\n",
              "\n",
              "      <script>\n",
              "        const buttonEl =\n",
              "          document.querySelector('#df-9603383e-44b2-4420-8252-50c6888f0642 button.colab-df-convert');\n",
              "        buttonEl.style.display =\n",
              "          google.colab.kernel.accessAllowed ? 'block' : 'none';\n",
              "\n",
              "        async function convertToInteractive(key) {\n",
              "          const element = document.querySelector('#df-9603383e-44b2-4420-8252-50c6888f0642');\n",
              "          const dataTable =\n",
              "            await google.colab.kernel.invokeFunction('convertToInteractive',\n",
              "                                                     [key], {});\n",
              "          if (!dataTable) return;\n",
              "\n",
              "          const docLinkHtml = 'Like what you see? Visit the ' +\n",
              "            '<a target=\"_blank\" href=https://colab.research.google.com/notebooks/data_table.ipynb>data table notebook</a>'\n",
              "            + ' to learn more about interactive tables.';\n",
              "          element.innerHTML = '';\n",
              "          dataTable['output_type'] = 'display_data';\n",
              "          await google.colab.output.renderOutput(dataTable, element);\n",
              "          const docLink = document.createElement('div');\n",
              "          docLink.innerHTML = docLinkHtml;\n",
              "          element.appendChild(docLink);\n",
              "        }\n",
              "      </script>\n",
              "    </div>\n",
              "  </div>\n",
              "  "
            ]
          },
          "metadata": {},
          "execution_count": 1083
        }
      ]
    },
    {
      "cell_type": "markdown",
      "source": [
        "Делим на обучающий и тестовый набор:"
      ],
      "metadata": {
        "id": "Swdi_daddgJh"
      }
    },
    {
      "cell_type": "code",
      "source": [
        "df_pct_train = df_pct[:-test_size].loc[:]# обучающий набор\n",
        "df_pct_train"
      ],
      "metadata": {
        "id": "MnltejKKy-LE",
        "colab": {
          "base_uri": "https://localhost:8080/",
          "height": 423
        },
        "outputId": "711486a0-5957-4cd8-a416-30ed5f6d53e5"
      },
      "execution_count": null,
      "outputs": [
        {
          "output_type": "execute_result",
          "data": {
            "text/plain": [
              "           pct\n",
              "5993 -0.016560\n",
              "5994  0.025540\n",
              "5995  0.005381\n",
              "5996  0.009807\n",
              "5997  0.003211\n",
              "...        ...\n",
              "7662  0.009911\n",
              "7663  0.001742\n",
              "7664  0.002432\n",
              "7665 -0.003098\n",
              "7666  0.004813\n",
              "\n",
              "[1674 rows x 1 columns]"
            ],
            "text/html": [
              "\n",
              "  <div id=\"df-c191377d-2ac8-4c2c-ba38-2a58a7d34471\">\n",
              "    <div class=\"colab-df-container\">\n",
              "      <div>\n",
              "<style scoped>\n",
              "    .dataframe tbody tr th:only-of-type {\n",
              "        vertical-align: middle;\n",
              "    }\n",
              "\n",
              "    .dataframe tbody tr th {\n",
              "        vertical-align: top;\n",
              "    }\n",
              "\n",
              "    .dataframe thead th {\n",
              "        text-align: right;\n",
              "    }\n",
              "</style>\n",
              "<table border=\"1\" class=\"dataframe\">\n",
              "  <thead>\n",
              "    <tr style=\"text-align: right;\">\n",
              "      <th></th>\n",
              "      <th>pct</th>\n",
              "    </tr>\n",
              "  </thead>\n",
              "  <tbody>\n",
              "    <tr>\n",
              "      <th>5993</th>\n",
              "      <td>-0.016560</td>\n",
              "    </tr>\n",
              "    <tr>\n",
              "      <th>5994</th>\n",
              "      <td>0.025540</td>\n",
              "    </tr>\n",
              "    <tr>\n",
              "      <th>5995</th>\n",
              "      <td>0.005381</td>\n",
              "    </tr>\n",
              "    <tr>\n",
              "      <th>5996</th>\n",
              "      <td>0.009807</td>\n",
              "    </tr>\n",
              "    <tr>\n",
              "      <th>5997</th>\n",
              "      <td>0.003211</td>\n",
              "    </tr>\n",
              "    <tr>\n",
              "      <th>...</th>\n",
              "      <td>...</td>\n",
              "    </tr>\n",
              "    <tr>\n",
              "      <th>7662</th>\n",
              "      <td>0.009911</td>\n",
              "    </tr>\n",
              "    <tr>\n",
              "      <th>7663</th>\n",
              "      <td>0.001742</td>\n",
              "    </tr>\n",
              "    <tr>\n",
              "      <th>7664</th>\n",
              "      <td>0.002432</td>\n",
              "    </tr>\n",
              "    <tr>\n",
              "      <th>7665</th>\n",
              "      <td>-0.003098</td>\n",
              "    </tr>\n",
              "    <tr>\n",
              "      <th>7666</th>\n",
              "      <td>0.004813</td>\n",
              "    </tr>\n",
              "  </tbody>\n",
              "</table>\n",
              "<p>1674 rows × 1 columns</p>\n",
              "</div>\n",
              "      <button class=\"colab-df-convert\" onclick=\"convertToInteractive('df-c191377d-2ac8-4c2c-ba38-2a58a7d34471')\"\n",
              "              title=\"Convert this dataframe to an interactive table.\"\n",
              "              style=\"display:none;\">\n",
              "        \n",
              "  <svg xmlns=\"http://www.w3.org/2000/svg\" height=\"24px\"viewBox=\"0 0 24 24\"\n",
              "       width=\"24px\">\n",
              "    <path d=\"M0 0h24v24H0V0z\" fill=\"none\"/>\n",
              "    <path d=\"M18.56 5.44l.94 2.06.94-2.06 2.06-.94-2.06-.94-.94-2.06-.94 2.06-2.06.94zm-11 1L8.5 8.5l.94-2.06 2.06-.94-2.06-.94L8.5 2.5l-.94 2.06-2.06.94zm10 10l.94 2.06.94-2.06 2.06-.94-2.06-.94-.94-2.06-.94 2.06-2.06.94z\"/><path d=\"M17.41 7.96l-1.37-1.37c-.4-.4-.92-.59-1.43-.59-.52 0-1.04.2-1.43.59L10.3 9.45l-7.72 7.72c-.78.78-.78 2.05 0 2.83L4 21.41c.39.39.9.59 1.41.59.51 0 1.02-.2 1.41-.59l7.78-7.78 2.81-2.81c.8-.78.8-2.07 0-2.86zM5.41 20L4 18.59l7.72-7.72 1.47 1.35L5.41 20z\"/>\n",
              "  </svg>\n",
              "      </button>\n",
              "      \n",
              "  <style>\n",
              "    .colab-df-container {\n",
              "      display:flex;\n",
              "      flex-wrap:wrap;\n",
              "      gap: 12px;\n",
              "    }\n",
              "\n",
              "    .colab-df-convert {\n",
              "      background-color: #E8F0FE;\n",
              "      border: none;\n",
              "      border-radius: 50%;\n",
              "      cursor: pointer;\n",
              "      display: none;\n",
              "      fill: #1967D2;\n",
              "      height: 32px;\n",
              "      padding: 0 0 0 0;\n",
              "      width: 32px;\n",
              "    }\n",
              "\n",
              "    .colab-df-convert:hover {\n",
              "      background-color: #E2EBFA;\n",
              "      box-shadow: 0px 1px 2px rgba(60, 64, 67, 0.3), 0px 1px 3px 1px rgba(60, 64, 67, 0.15);\n",
              "      fill: #174EA6;\n",
              "    }\n",
              "\n",
              "    [theme=dark] .colab-df-convert {\n",
              "      background-color: #3B4455;\n",
              "      fill: #D2E3FC;\n",
              "    }\n",
              "\n",
              "    [theme=dark] .colab-df-convert:hover {\n",
              "      background-color: #434B5C;\n",
              "      box-shadow: 0px 1px 3px 1px rgba(0, 0, 0, 0.15);\n",
              "      filter: drop-shadow(0px 1px 2px rgba(0, 0, 0, 0.3));\n",
              "      fill: #FFFFFF;\n",
              "    }\n",
              "  </style>\n",
              "\n",
              "      <script>\n",
              "        const buttonEl =\n",
              "          document.querySelector('#df-c191377d-2ac8-4c2c-ba38-2a58a7d34471 button.colab-df-convert');\n",
              "        buttonEl.style.display =\n",
              "          google.colab.kernel.accessAllowed ? 'block' : 'none';\n",
              "\n",
              "        async function convertToInteractive(key) {\n",
              "          const element = document.querySelector('#df-c191377d-2ac8-4c2c-ba38-2a58a7d34471');\n",
              "          const dataTable =\n",
              "            await google.colab.kernel.invokeFunction('convertToInteractive',\n",
              "                                                     [key], {});\n",
              "          if (!dataTable) return;\n",
              "\n",
              "          const docLinkHtml = 'Like what you see? Visit the ' +\n",
              "            '<a target=\"_blank\" href=https://colab.research.google.com/notebooks/data_table.ipynb>data table notebook</a>'\n",
              "            + ' to learn more about interactive tables.';\n",
              "          element.innerHTML = '';\n",
              "          dataTable['output_type'] = 'display_data';\n",
              "          await google.colab.output.renderOutput(dataTable, element);\n",
              "          const docLink = document.createElement('div');\n",
              "          docLink.innerHTML = docLinkHtml;\n",
              "          element.appendChild(docLink);\n",
              "        }\n",
              "      </script>\n",
              "    </div>\n",
              "  </div>\n",
              "  "
            ]
          },
          "metadata": {},
          "execution_count": 1084
        }
      ]
    },
    {
      "cell_type": "code",
      "source": [
        "df_pct_test = df_pct[-test_size:].loc[:] # тестовый набор\n",
        "df_pct_test"
      ],
      "metadata": {
        "colab": {
          "base_uri": "https://localhost:8080/",
          "height": 423
        },
        "id": "nMdZI1GczMUm",
        "outputId": "1c39cd68-9a46-45be-9e5a-b3fca496b1c7"
      },
      "execution_count": null,
      "outputs": [
        {
          "output_type": "execute_result",
          "data": {
            "text/plain": [
              "           pct\n",
              "7667 -0.006186\n",
              "7668  0.003112\n",
              "7669 -0.005532\n",
              "7670  0.002086\n",
              "7671  0.000676\n",
              "...        ...\n",
              "7978  0.003922\n",
              "7979 -0.002486\n",
              "7980  0.003560\n",
              "7981 -0.005558\n",
              "7982 -0.002616\n",
              "\n",
              "[316 rows x 1 columns]"
            ],
            "text/html": [
              "\n",
              "  <div id=\"df-f9ec5c98-ffc5-4126-9f0e-572810657bd6\">\n",
              "    <div class=\"colab-df-container\">\n",
              "      <div>\n",
              "<style scoped>\n",
              "    .dataframe tbody tr th:only-of-type {\n",
              "        vertical-align: middle;\n",
              "    }\n",
              "\n",
              "    .dataframe tbody tr th {\n",
              "        vertical-align: top;\n",
              "    }\n",
              "\n",
              "    .dataframe thead th {\n",
              "        text-align: right;\n",
              "    }\n",
              "</style>\n",
              "<table border=\"1\" class=\"dataframe\">\n",
              "  <thead>\n",
              "    <tr style=\"text-align: right;\">\n",
              "      <th></th>\n",
              "      <th>pct</th>\n",
              "    </tr>\n",
              "  </thead>\n",
              "  <tbody>\n",
              "    <tr>\n",
              "      <th>7667</th>\n",
              "      <td>-0.006186</td>\n",
              "    </tr>\n",
              "    <tr>\n",
              "      <th>7668</th>\n",
              "      <td>0.003112</td>\n",
              "    </tr>\n",
              "    <tr>\n",
              "      <th>7669</th>\n",
              "      <td>-0.005532</td>\n",
              "    </tr>\n",
              "    <tr>\n",
              "      <th>7670</th>\n",
              "      <td>0.002086</td>\n",
              "    </tr>\n",
              "    <tr>\n",
              "      <th>7671</th>\n",
              "      <td>0.000676</td>\n",
              "    </tr>\n",
              "    <tr>\n",
              "      <th>...</th>\n",
              "      <td>...</td>\n",
              "    </tr>\n",
              "    <tr>\n",
              "      <th>7978</th>\n",
              "      <td>0.003922</td>\n",
              "    </tr>\n",
              "    <tr>\n",
              "      <th>7979</th>\n",
              "      <td>-0.002486</td>\n",
              "    </tr>\n",
              "    <tr>\n",
              "      <th>7980</th>\n",
              "      <td>0.003560</td>\n",
              "    </tr>\n",
              "    <tr>\n",
              "      <th>7981</th>\n",
              "      <td>-0.005558</td>\n",
              "    </tr>\n",
              "    <tr>\n",
              "      <th>7982</th>\n",
              "      <td>-0.002616</td>\n",
              "    </tr>\n",
              "  </tbody>\n",
              "</table>\n",
              "<p>316 rows × 1 columns</p>\n",
              "</div>\n",
              "      <button class=\"colab-df-convert\" onclick=\"convertToInteractive('df-f9ec5c98-ffc5-4126-9f0e-572810657bd6')\"\n",
              "              title=\"Convert this dataframe to an interactive table.\"\n",
              "              style=\"display:none;\">\n",
              "        \n",
              "  <svg xmlns=\"http://www.w3.org/2000/svg\" height=\"24px\"viewBox=\"0 0 24 24\"\n",
              "       width=\"24px\">\n",
              "    <path d=\"M0 0h24v24H0V0z\" fill=\"none\"/>\n",
              "    <path d=\"M18.56 5.44l.94 2.06.94-2.06 2.06-.94-2.06-.94-.94-2.06-.94 2.06-2.06.94zm-11 1L8.5 8.5l.94-2.06 2.06-.94-2.06-.94L8.5 2.5l-.94 2.06-2.06.94zm10 10l.94 2.06.94-2.06 2.06-.94-2.06-.94-.94-2.06-.94 2.06-2.06.94z\"/><path d=\"M17.41 7.96l-1.37-1.37c-.4-.4-.92-.59-1.43-.59-.52 0-1.04.2-1.43.59L10.3 9.45l-7.72 7.72c-.78.78-.78 2.05 0 2.83L4 21.41c.39.39.9.59 1.41.59.51 0 1.02-.2 1.41-.59l7.78-7.78 2.81-2.81c.8-.78.8-2.07 0-2.86zM5.41 20L4 18.59l7.72-7.72 1.47 1.35L5.41 20z\"/>\n",
              "  </svg>\n",
              "      </button>\n",
              "      \n",
              "  <style>\n",
              "    .colab-df-container {\n",
              "      display:flex;\n",
              "      flex-wrap:wrap;\n",
              "      gap: 12px;\n",
              "    }\n",
              "\n",
              "    .colab-df-convert {\n",
              "      background-color: #E8F0FE;\n",
              "      border: none;\n",
              "      border-radius: 50%;\n",
              "      cursor: pointer;\n",
              "      display: none;\n",
              "      fill: #1967D2;\n",
              "      height: 32px;\n",
              "      padding: 0 0 0 0;\n",
              "      width: 32px;\n",
              "    }\n",
              "\n",
              "    .colab-df-convert:hover {\n",
              "      background-color: #E2EBFA;\n",
              "      box-shadow: 0px 1px 2px rgba(60, 64, 67, 0.3), 0px 1px 3px 1px rgba(60, 64, 67, 0.15);\n",
              "      fill: #174EA6;\n",
              "    }\n",
              "\n",
              "    [theme=dark] .colab-df-convert {\n",
              "      background-color: #3B4455;\n",
              "      fill: #D2E3FC;\n",
              "    }\n",
              "\n",
              "    [theme=dark] .colab-df-convert:hover {\n",
              "      background-color: #434B5C;\n",
              "      box-shadow: 0px 1px 3px 1px rgba(0, 0, 0, 0.15);\n",
              "      filter: drop-shadow(0px 1px 2px rgba(0, 0, 0, 0.3));\n",
              "      fill: #FFFFFF;\n",
              "    }\n",
              "  </style>\n",
              "\n",
              "      <script>\n",
              "        const buttonEl =\n",
              "          document.querySelector('#df-f9ec5c98-ffc5-4126-9f0e-572810657bd6 button.colab-df-convert');\n",
              "        buttonEl.style.display =\n",
              "          google.colab.kernel.accessAllowed ? 'block' : 'none';\n",
              "\n",
              "        async function convertToInteractive(key) {\n",
              "          const element = document.querySelector('#df-f9ec5c98-ffc5-4126-9f0e-572810657bd6');\n",
              "          const dataTable =\n",
              "            await google.colab.kernel.invokeFunction('convertToInteractive',\n",
              "                                                     [key], {});\n",
              "          if (!dataTable) return;\n",
              "\n",
              "          const docLinkHtml = 'Like what you see? Visit the ' +\n",
              "            '<a target=\"_blank\" href=https://colab.research.google.com/notebooks/data_table.ipynb>data table notebook</a>'\n",
              "            + ' to learn more about interactive tables.';\n",
              "          element.innerHTML = '';\n",
              "          dataTable['output_type'] = 'display_data';\n",
              "          await google.colab.output.renderOutput(dataTable, element);\n",
              "          const docLink = document.createElement('div');\n",
              "          docLink.innerHTML = docLinkHtml;\n",
              "          element.appendChild(docLink);\n",
              "        }\n",
              "      </script>\n",
              "    </div>\n",
              "  </div>\n",
              "  "
            ]
          },
          "metadata": {},
          "execution_count": 1085
        }
      ]
    },
    {
      "cell_type": "markdown",
      "source": [
        "Выполняем стандартизацию данных с помощью StandartScaler:"
      ],
      "metadata": {
        "id": "eugTEF0Pd3hv"
      }
    },
    {
      "cell_type": "code",
      "source": [
        "scaler = StandardScaler()\n",
        "df_pct_train['pct'] = scaler.fit_transform(df_pct_train['pct'].values.reshape(-1, 1))\n",
        "df_pct_test['pct'] = scaler.fit_transform(df_pct_test['pct'].values.reshape(-1, 1))"
      ],
      "metadata": {
        "id": "1C1H5vmjDGVG"
      },
      "execution_count": null,
      "outputs": []
    },
    {
      "cell_type": "markdown",
      "source": [
        "Создаем наборы последовательностей обучающего и тестового набора:"
      ],
      "metadata": {
        "id": "y8Fx1tCPeDgZ"
      }
    },
    {
      "cell_type": "code",
      "source": [
        "data_temp = df_pct_train.values\n",
        "data = []\n",
        "\n",
        "for index in range(len(data_temp) - train_window):\n",
        "  data.append(data_temp[index: index + train_window ])\n",
        "\n",
        "data = np.array(data)\n",
        "x_train_pct = data[:,:-1,:]\n",
        "y_train_pct = data[:,-1,:]"
      ],
      "metadata": {
        "id": "NtjGRBZiTx1x"
      },
      "execution_count": null,
      "outputs": []
    },
    {
      "cell_type": "code",
      "source": [
        "data_temp = df_pct_test.values\n",
        "data = []\n",
        "local_temp = train_window+1\n",
        "#for index in range(len(data_temp) - local_temp):\n",
        "for index in range(len(data_temp) - train_window):\n",
        "  data.append(data_temp[index: index + train_window])\n",
        "\n",
        "data = np.array(data)\n",
        "x_test_pct = data[:,:-1]\n",
        "y_test_pct = data[:,-1,:]\n",
        "#len(x_test)"
      ],
      "metadata": {
        "id": "6n2b1S7tTS6g"
      },
      "execution_count": null,
      "outputs": []
    },
    {
      "cell_type": "code",
      "source": [
        "print('x_train.shape = ',x_train_pct.shape)\n",
        "print('y_train.shape = ',y_train_pct.shape)\n",
        "print('x_test.shape = ',x_test_pct.shape)\n",
        "print('y_test.shape = ',y_test_pct.shape)"
      ],
      "metadata": {
        "colab": {
          "base_uri": "https://localhost:8080/"
        },
        "id": "5axYVI2v_WlA",
        "outputId": "23130243-3cf9-4726-d4f8-a48dcb255da4"
      },
      "execution_count": null,
      "outputs": [
        {
          "output_type": "stream",
          "name": "stdout",
          "text": [
            "x_train.shape =  (1604, 69, 1)\n",
            "y_train.shape =  (1604, 1)\n",
            "x_test.shape =  (246, 69, 1)\n",
            "y_test.shape =  (246, 1)\n"
          ]
        }
      ]
    },
    {
      "cell_type": "markdown",
      "source": [
        "В итоге получили 1604 последовательности обучающего набора и 246 последовательностей тестового набора."
      ],
      "metadata": {
        "id": "psjooTBxefgf"
      }
    },
    {
      "cell_type": "markdown",
      "source": [
        "Преобразуем в тензоры Torch:"
      ],
      "metadata": {
        "id": "bVE_1E8setXX"
      }
    },
    {
      "cell_type": "code",
      "source": [
        "# in torch\n",
        "x_train_pct = torch.from_numpy(x_train_pct).type(torch.Tensor)\n",
        "x_test_pct = torch.from_numpy(x_test_pct).type(torch.Tensor)\n",
        "y_train_pct = torch.from_numpy(y_train_pct).type(torch.Tensor)\n",
        "y_test_pct = torch.from_numpy(y_test_pct).type(torch.Tensor)"
      ],
      "metadata": {
        "id": "h2_O5sjVpTpM"
      },
      "execution_count": null,
      "outputs": []
    },
    {
      "cell_type": "markdown",
      "source": [
        "Тренируем модель:"
      ],
      "metadata": {
        "id": "jF0g0kiYe2Sg"
      }
    },
    {
      "cell_type": "code",
      "source": [
        "num_epochs = 200\n",
        "hist = np.zeros(num_epochs)\n",
        "\n",
        "# Шаг тренировки\n",
        "seq_dim = train_window\n",
        "\n",
        "for t in range(num_epochs):\n",
        "    \n",
        "    # Forward pass\n",
        "    y_train_pred_pct = model(x_train_pct)\n",
        "\n",
        "    loss = loss_fn(y_train_pred_pct, y_train_pct)\n",
        "    if t % 10 == 0 and t !=0:\n",
        "        print(\"Epoch \", t, \"MSE: \", loss.item())\n",
        "    hist[t] = loss.item()\n",
        "\n",
        "    optimiser.zero_grad()\n",
        "\n",
        "    # Backward pass\n",
        "    loss.backward()\n",
        "\n",
        "    # Update parameters\n",
        "    optimiser.step()"
      ],
      "metadata": {
        "colab": {
          "base_uri": "https://localhost:8080/"
        },
        "id": "MW_VqzIBQ3aW",
        "outputId": "9dc0825b-799c-48d1-b62a-81ba0d04d4bb"
      },
      "execution_count": null,
      "outputs": [
        {
          "output_type": "stream",
          "name": "stdout",
          "text": [
            "Epoch  10 MSE:  0.5557235479354858\n",
            "Epoch  20 MSE:  0.4337475597858429\n",
            "Epoch  30 MSE:  0.36563536524772644\n",
            "Epoch  40 MSE:  0.3253336548805237\n",
            "Epoch  50 MSE:  0.30331072211265564\n",
            "Epoch  60 MSE:  0.2859139144420624\n",
            "Epoch  70 MSE:  0.2710375189781189\n",
            "Epoch  80 MSE:  0.27362188696861267\n",
            "Epoch  90 MSE:  0.27210596203804016\n",
            "Epoch  100 MSE:  0.2512187361717224\n",
            "Epoch  110 MSE:  0.23983895778656006\n",
            "Epoch  120 MSE:  0.23500443994998932\n",
            "Epoch  130 MSE:  0.21877574920654297\n",
            "Epoch  140 MSE:  0.21267548203468323\n",
            "Epoch  150 MSE:  0.23988932371139526\n",
            "Epoch  160 MSE:  0.20641328394412994\n",
            "Epoch  170 MSE:  0.20319612324237823\n",
            "Epoch  180 MSE:  0.19933609664440155\n",
            "Epoch  190 MSE:  0.1929139792919159\n"
          ]
        }
      ]
    },
    {
      "cell_type": "code",
      "source": [
        "plt.plot(hist, label=\"Training loss\")\n",
        "plt.legend()\n",
        "plt.show()"
      ],
      "metadata": {
        "colab": {
          "base_uri": "https://localhost:8080/",
          "height": 265
        },
        "id": "STd4qKFJ_V0D",
        "outputId": "fe01572f-fa13-4934-ab46-b1ae1255f4b0"
      },
      "execution_count": null,
      "outputs": [
        {
          "output_type": "display_data",
          "data": {
            "text/plain": [
              "<Figure size 432x288 with 1 Axes>"
            ],
            "image/png": "[encoded data removed]"
          },
          "metadata": {
            "needs_background": "light"
          }
        }
      ]
    },
    {
      "cell_type": "markdown",
      "source": [
        "Выполняем прогноз:"
      ],
      "metadata": {
        "id": "3Ijy_RsqfHSn"
      }
    },
    {
      "cell_type": "code",
      "source": [
        "# прогноз\n",
        "y_test_pred_pct = model(x_test_pct)"
      ],
      "metadata": {
        "id": "jRbqsvRonIUb"
      },
      "execution_count": null,
      "outputs": []
    },
    {
      "cell_type": "code",
      "source": [
        "# инверсия\n",
        "y_train_pred_pct = scaler.inverse_transform(y_train_pred_pct.detach().numpy())\n",
        "y_train_pct = scaler.inverse_transform(y_train_pct.detach().numpy())\n",
        "y_test_pred_pct = scaler.inverse_transform(y_test_pred_pct.detach().numpy())\n",
        "y_test_pct = scaler.inverse_transform(y_test_pct.detach().numpy())"
      ],
      "metadata": {
        "id": "x-VhEK1eAGGb"
      },
      "execution_count": null,
      "outputs": []
    },
    {
      "cell_type": "code",
      "source": [
        "# ошибка\n",
        "trainScore = math.sqrt(mean_squared_error(y_train_pct[:,0], y_train_pred_pct[:,0]))\n",
        "print('Train Score: %.2f RMSE' % (trainScore))\n",
        "testScore = math.sqrt(mean_squared_error(y_test_pct[:,0], y_test_pred_pct[:,0]))\n",
        "print('Test Score: %.2f RMSE' % (testScore))"
      ],
      "metadata": {
        "colab": {
          "base_uri": "https://localhost:8080/"
        },
        "id": "ptp1GJm_nQLp",
        "outputId": "daae50e7-b8c5-40b4-fca2-9e1bf0e87a07"
      },
      "execution_count": null,
      "outputs": [
        {
          "output_type": "stream",
          "name": "stdout",
          "text": [
            "Train Score: 0.00 RMSE\n",
            "Test Score: 0.02 RMSE\n"
          ]
        }
      ]
    },
    {
      "cell_type": "markdown",
      "source": [
        "Представим результаты прогноза на графике:"
      ],
      "metadata": {
        "id": "YLEViblmS-Tt"
      }
    },
    {
      "cell_type": "code",
      "source": [
        "figure, axes = plt.subplots(figsize=(15, 6))\n",
        "axes.plot(df2[-240:].index, y_test_pct[-240:], color = 'red', label = 'Real')\n",
        "axes.plot(df2[-240:].index, y_test_pred_pct[-240:], color = 'blue', label = 'Predicted')\n",
        "plt.title('Рercentage price change Prediction')\n",
        "plt.xlabel('')\n",
        "plt.ylabel('Рercentage price change')\n",
        "plt.legend()\n",
        "plt.savefig('Microsoft_pred_2.png')\n",
        "plt.show()"
      ],
      "metadata": {
        "colab": {
          "base_uri": "https://localhost:8080/",
          "height": 390
        },
        "id": "0WyRjqa9Uhg7",
        "outputId": "a18286fe-45de-40ac-c17f-d103370f9444"
      },
      "execution_count": null,
      "outputs": [
        {
          "output_type": "display_data",
          "data": {
            "text/plain": [
              "<Figure size 1080x432 with 1 Axes>"
            ],
            "image/png": "[encoded data removed]"
          },
          "metadata": {
            "needs_background": "light"
          }
        }
      ]
    },
    {
      "cell_type": "markdown",
      "source": [
        "##### Рассчитаем прогноз цены на основе предсказанных процентных изменений:"
      ],
      "metadata": {
        "id": "Fa8za6YaUwx2"
      }
    },
    {
      "cell_type": "markdown",
      "source": [
        "Посмотрим значение цены 'Close' 7667 строке датасета:"
      ],
      "metadata": {
        "id": "lxfnECfFUg0v"
      }
    },
    {
      "cell_type": "code",
      "source": [
        "rows = df_msft.iloc[-316:7668] \n",
        "print(rows)"
      ],
      "metadata": {
        "colab": {
          "base_uri": "https://localhost:8080/"
        },
        "id": "OzzGCtsBUie0",
        "outputId": "72c95e39-4ecc-41a3-d591-f281877a0087"
      },
      "execution_count": null,
      "outputs": [
        {
          "output_type": "stream",
          "name": "stdout",
          "text": [
            "           Date    Open   High     Low   Close    Volume  OpenInt       pct\n",
            "7667 2016-08-12  56.314  56.47  55.916  56.226  20788204        0 -0.006186\n"
          ]
        }
      ]
    },
    {
      "cell_type": "code",
      "source": [
        "df3=pd.DataFrame(data=np.array(y_test_pred_pct), columns=['pred_pct'])\n",
        "#df3"
      ],
      "metadata": {
        "id": "SqicxvZuwMJ9"
      },
      "execution_count": null,
      "outputs": []
    },
    {
      "cell_type": "markdown",
      "source": [
        "В колонке 'pred' рассчитаем цены по прогнозу процентных изменений:"
      ],
      "metadata": {
        "id": "lu2g6q-AUbDh"
      }
    },
    {
      "cell_type": "code",
      "source": [
        "df3['pred'] = df3['pred_pct'].add(1,fill_value=0).cumprod()*56.226\n",
        "df3"
      ],
      "metadata": {
        "colab": {
          "base_uri": "https://localhost:8080/",
          "height": 423
        },
        "id": "tsCwDvL0Jg8s",
        "outputId": "4b806ab6-7bb3-4756-ded7-16557c855356"
      },
      "execution_count": null,
      "outputs": [
        {
          "output_type": "execute_result",
          "data": {
            "text/plain": [
              "     pred_pct        pred\n",
              "0    0.005527   56.536785\n",
              "1   -0.024189   55.169235\n",
              "2    0.034221   57.057198\n",
              "3   -0.014630   56.222427\n",
              "4    0.008935   56.724789\n",
              "..        ...         ...\n",
              "241  0.018734  113.936440\n",
              "242 -0.013026  112.452362\n",
              "243  0.023500  115.095024\n",
              "244 -0.002729  114.780884\n",
              "245  0.009401  115.859985\n",
              "\n",
              "[246 rows x 2 columns]"
            ],
            "text/html": [
              "\n",
              "  <div id=\"df-b816ece7-aad0-42d4-8668-34a755b0c7cc\">\n",
              "    <div class=\"colab-df-container\">\n",
              "      <div>\n",
              "<style scoped>\n",
              "    .dataframe tbody tr th:only-of-type {\n",
              "        vertical-align: middle;\n",
              "    }\n",
              "\n",
              "    .dataframe tbody tr th {\n",
              "        vertical-align: top;\n",
              "    }\n",
              "\n",
              "    .dataframe thead th {\n",
              "        text-align: right;\n",
              "    }\n",
              "</style>\n",
              "<table border=\"1\" class=\"dataframe\">\n",
              "  <thead>\n",
              "    <tr style=\"text-align: right;\">\n",
              "      <th></th>\n",
              "      <th>pred_pct</th>\n",
              "      <th>pred</th>\n",
              "    </tr>\n",
              "  </thead>\n",
              "  <tbody>\n",
              "    <tr>\n",
              "      <th>0</th>\n",
              "      <td>0.005527</td>\n",
              "      <td>56.536785</td>\n",
              "    </tr>\n",
              "    <tr>\n",
              "      <th>1</th>\n",
              "      <td>-0.024189</td>\n",
              "      <td>55.169235</td>\n",
              "    </tr>\n",
              "    <tr>\n",
              "      <th>2</th>\n",
              "      <td>0.034221</td>\n",
              "      <td>57.057198</td>\n",
              "    </tr>\n",
              "    <tr>\n",
              "      <th>3</th>\n",
              "      <td>-0.014630</td>\n",
              "      <td>56.222427</td>\n",
              "    </tr>\n",
              "    <tr>\n",
              "      <th>4</th>\n",
              "      <td>0.008935</td>\n",
              "      <td>56.724789</td>\n",
              "    </tr>\n",
              "    <tr>\n",
              "      <th>...</th>\n",
              "      <td>...</td>\n",
              "      <td>...</td>\n",
              "    </tr>\n",
              "    <tr>\n",
              "      <th>241</th>\n",
              "      <td>0.018734</td>\n",
              "      <td>113.936440</td>\n",
              "    </tr>\n",
              "    <tr>\n",
              "      <th>242</th>\n",
              "      <td>-0.013026</td>\n",
              "      <td>112.452362</td>\n",
              "    </tr>\n",
              "    <tr>\n",
              "      <th>243</th>\n",
              "      <td>0.023500</td>\n",
              "      <td>115.095024</td>\n",
              "    </tr>\n",
              "    <tr>\n",
              "      <th>244</th>\n",
              "      <td>-0.002729</td>\n",
              "      <td>114.780884</td>\n",
              "    </tr>\n",
              "    <tr>\n",
              "      <th>245</th>\n",
              "      <td>0.009401</td>\n",
              "      <td>115.859985</td>\n",
              "    </tr>\n",
              "  </tbody>\n",
              "</table>\n",
              "<p>246 rows × 2 columns</p>\n",
              "</div>\n",
              "      <button class=\"colab-df-convert\" onclick=\"convertToInteractive('df-b816ece7-aad0-42d4-8668-34a755b0c7cc')\"\n",
              "              title=\"Convert this dataframe to an interactive table.\"\n",
              "              style=\"display:none;\">\n",
              "        \n",
              "  <svg xmlns=\"http://www.w3.org/2000/svg\" height=\"24px\"viewBox=\"0 0 24 24\"\n",
              "       width=\"24px\">\n",
              "    <path d=\"M0 0h24v24H0V0z\" fill=\"none\"/>\n",
              "    <path d=\"M18.56 5.44l.94 2.06.94-2.06 2.06-.94-2.06-.94-.94-2.06-.94 2.06-2.06.94zm-11 1L8.5 8.5l.94-2.06 2.06-.94-2.06-.94L8.5 2.5l-.94 2.06-2.06.94zm10 10l.94 2.06.94-2.06 2.06-.94-2.06-.94-.94-2.06-.94 2.06-2.06.94z\"/><path d=\"M17.41 7.96l-1.37-1.37c-.4-.4-.92-.59-1.43-.59-.52 0-1.04.2-1.43.59L10.3 9.45l-7.72 7.72c-.78.78-.78 2.05 0 2.83L4 21.41c.39.39.9.59 1.41.59.51 0 1.02-.2 1.41-.59l7.78-7.78 2.81-2.81c.8-.78.8-2.07 0-2.86zM5.41 20L4 18.59l7.72-7.72 1.47 1.35L5.41 20z\"/>\n",
              "  </svg>\n",
              "      </button>\n",
              "      \n",
              "  <style>\n",
              "    .colab-df-container {\n",
              "      display:flex;\n",
              "      flex-wrap:wrap;\n",
              "      gap: 12px;\n",
              "    }\n",
              "\n",
              "    .colab-df-convert {\n",
              "      background-color: #E8F0FE;\n",
              "      border: none;\n",
              "      border-radius: 50%;\n",
              "      cursor: pointer;\n",
              "      display: none;\n",
              "      fill: #1967D2;\n",
              "      height: 32px;\n",
              "      padding: 0 0 0 0;\n",
              "      width: 32px;\n",
              "    }\n",
              "\n",
              "    .colab-df-convert:hover {\n",
              "      background-color: #E2EBFA;\n",
              "      box-shadow: 0px 1px 2px rgba(60, 64, 67, 0.3), 0px 1px 3px 1px rgba(60, 64, 67, 0.15);\n",
              "      fill: #174EA6;\n",
              "    }\n",
              "\n",
              "    [theme=dark] .colab-df-convert {\n",
              "      background-color: #3B4455;\n",
              "      fill: #D2E3FC;\n",
              "    }\n",
              "\n",
              "    [theme=dark] .colab-df-convert:hover {\n",
              "      background-color: #434B5C;\n",
              "      box-shadow: 0px 1px 3px 1px rgba(0, 0, 0, 0.15);\n",
              "      filter: drop-shadow(0px 1px 2px rgba(0, 0, 0, 0.3));\n",
              "      fill: #FFFFFF;\n",
              "    }\n",
              "  </style>\n",
              "\n",
              "      <script>\n",
              "        const buttonEl =\n",
              "          document.querySelector('#df-b816ece7-aad0-42d4-8668-34a755b0c7cc button.colab-df-convert');\n",
              "        buttonEl.style.display =\n",
              "          google.colab.kernel.accessAllowed ? 'block' : 'none';\n",
              "\n",
              "        async function convertToInteractive(key) {\n",
              "          const element = document.querySelector('#df-b816ece7-aad0-42d4-8668-34a755b0c7cc');\n",
              "          const dataTable =\n",
              "            await google.colab.kernel.invokeFunction('convertToInteractive',\n",
              "                                                     [key], {});\n",
              "          if (!dataTable) return;\n",
              "\n",
              "          const docLinkHtml = 'Like what you see? Visit the ' +\n",
              "            '<a target=\"_blank\" href=https://colab.research.google.com/notebooks/data_table.ipynb>data table notebook</a>'\n",
              "            + ' to learn more about interactive tables.';\n",
              "          element.innerHTML = '';\n",
              "          dataTable['output_type'] = 'display_data';\n",
              "          await google.colab.output.renderOutput(dataTable, element);\n",
              "          const docLink = document.createElement('div');\n",
              "          docLink.innerHTML = docLinkHtml;\n",
              "          element.appendChild(docLink);\n",
              "        }\n",
              "      </script>\n",
              "    </div>\n",
              "  </div>\n",
              "  "
            ]
          },
          "metadata": {},
          "execution_count": 1100
        }
      ]
    },
    {
      "cell_type": "markdown",
      "source": [
        "Визуализируем результат:"
      ],
      "metadata": {
        "id": "02p8NayKVIP1"
      }
    },
    {
      "cell_type": "code",
      "source": [
        "figure, axes = plt.subplots(figsize=(15, 6))\n",
        "axes.plot(df[-240:].index, y_test[-240:], color = 'red', label = 'Real Microsoft Stock Price')\n",
        "axes.plot(df[-240:].index, df3['pred'][-240:], color = 'blue', label = 'Predicted Microsoft Stock Price')\n",
        "plt.title('Microsoft Stock Price Prediction')\n",
        "plt.xlabel('')\n",
        "plt.ylabel('Microsoft Stock Price')\n",
        "plt.legend()\n",
        "plt.savefig('Microsoft_pred_3.png')\n",
        "plt.show()"
      ],
      "metadata": {
        "colab": {
          "base_uri": "https://localhost:8080/",
          "height": 390
        },
        "id": "5AIHCF-d08po",
        "outputId": "c1493337-29d2-4046-d4e5-c186dc5d0684"
      },
      "execution_count": null,
      "outputs": [
        {
          "output_type": "display_data",
          "data": {
            "text/plain": [
              "<Figure size 1080x432 with 1 Axes>"
            ],
            "image/png": "[encoded data removed]"
          },
          "metadata": {
            "needs_background": "light"
          }
        }
      ]
    },
    {
      "cell_type": "markdown",
      "source": [
        ">### Вывод: Прогноз цены на основе предобработанных данных демонстрирует сопоставимые метрики качества. При этом, динамика цены акции, восстановленная из прогноза процентных отклонений сильнее отклоняется от фактической цены, чем прогноз цены акции на основе \"сырых\" данных. Это обстоятельство хорошо визуально заметно на графиках.  Попытка увеличения количество эпох тренировки не привела к улучшению ситуации. Видимо требуется больший размер данных для обучения и/или применение кросс-валидационных методов."
      ],
      "metadata": {
        "id": "4yLMMQQDT-c4"
      }
    }
  ],
  "metadata": {
    "kernelspec": {
      "display_name": "Python 3",
      "language": "python",
      "name": "python3"
    },
    "language_info": {
      "codemirror_mode": {
        "name": "ipython",
        "version": 3
      },
      "file_extension": ".py",
      "mimetype": "text/x-python",
      "name": "python",
      "nbconvert_exporter": "python",
      "pygments_lexer": "ipython3",
      "version": "3.8.5"
    },
    "colab": {
      "provenance": []
    },
    "gpuClass": "standard"
  },
  "nbformat": 4,
  "nbformat_minor": 0
}