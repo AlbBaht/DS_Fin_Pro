{
  "nbformat": 4,
  "nbformat_minor": 0,
  "metadata": {
    "colab": {
      "provenance": []
    },
    "kernelspec": {
      "name": "python3",
      "display_name": "Python 3"
    },
    "language_info": {
      "name": "python"
    }
  },
  "cells": [
    {
      "cell_type": "code",
      "source": [
        "# install if required for you\n",
        "!pip install -q streamlit"
      ],
      "metadata": {
        "id": "cKnfbFLgUkYN"
      },
      "execution_count": null,
      "outputs": []
    },
    {
      "cell_type": "code",
      "source": [
        "%%writefile app.py\n",
        "\n",
        "import joblib\n",
        "import numpy as np\n",
        "\n",
        "import streamlit as st\n",
        "\n",
        "def predict(phrase: str):\n",
        "    \n",
        "    model = open('best_model.pkl', 'rb')\n",
        "    model = joblib.load(model)\n",
        "\n",
        "    vectorizer = open('vectorizer.pkl', 'rb')\n",
        "    vectorizer = joblib.load(vectorizer)\n",
        "\n",
        "    le = open('le.pkl', 'rb')\n",
        "    le = joblib.load(le)\n",
        "\n",
        "    vectorized = vectorizer.transform(np.array([phrase]))\n",
        "    predictions = model.predict(vectorized)\n",
        "    return le.inverse_transform(predictions)[0]\n",
        "\n",
        "text_input = st.text_input('Введите фразу для классификации')\n",
        "\n",
        "if len(text_input) > 0:\n",
        "    st.write('### Введенный текст:\\n\\n')\n",
        "    st.write('### '+text_input)\n",
        "\n",
        "    r = predict(text_input)\n",
        "    st.write('### ' + str(r))"
      ],
      "metadata": {
        "colab": {
          "base_uri": "https://localhost:8080/"
        },
        "id": "NvP3SH5sT12H",
        "outputId": "ec8daafb-68d2-4480-ab46-3c9952f397de"
      },
      "execution_count": null,
      "outputs": [
        {
          "output_type": "stream",
          "name": "stdout",
          "text": [
            "Overwriting app.py\n"
          ]
        }
      ]
    },
    {
      "cell_type": "code",
      "source": [
        "#!streamlit run app.py >/dev/null"
      ],
      "metadata": {
        "id": "6-8XkKeUj2Sw"
      },
      "execution_count": null,
      "outputs": []
    },
    {
      "cell_type": "code",
      "source": [
        "!streamlit run app.py &>logs.txt &"
      ],
      "metadata": {
        "id": "G8sWil1gcDfN"
      },
      "execution_count": null,
      "outputs": []
    },
    {
      "cell_type": "code",
      "source": [
        "!npx localtunnel --port 8501"
      ],
      "metadata": {
        "colab": {
          "base_uri": "https://localhost:8080/"
        },
        "id": "vtDb1Eg5gUYK",
        "outputId": "287bc54a-56db-4d33-e7b6-f9863a3bc63f"
      },
      "execution_count": null,
      "outputs": [
        {
          "output_type": "stream",
          "name": "stdout",
          "text": [
            "\u001b[K\u001b[?25hnpx: installed 22 in 2.302s\n",
            "your url is: https://witty-wings-eat-35-230-93-157.loca.lt\n",
            "^C\n"
          ]
        }
      ]
    }
  ]
}